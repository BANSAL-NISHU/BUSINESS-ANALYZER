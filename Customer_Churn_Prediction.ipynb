{
 "cells": [
  {
   "cell_type": "markdown",
   "metadata": {
    "papermill": {
     "duration": 0.049935,
     "end_time": "2021-03-02T22:27:11.946146",
     "exception": false,
     "start_time": "2021-03-02T22:27:11.896211",
     "status": "completed"
    },
    "tags": []
   },
   "source": [
    "# Data Collection"
   ]
  },
  {
   "cell_type": "markdown",
   "metadata": {
    "papermill": {
     "duration": 0.049896,
     "end_time": "2021-03-02T22:27:12.046689",
     "exception": false,
     "start_time": "2021-03-02T22:27:11.996793",
     "status": "completed"
    },
    "tags": []
   },
   "source": [
    " ### 1. Importing Modules"
   ]
  },
  {
   "cell_type": "code",
   "execution_count": 1,
   "metadata": {
    "_cell_guid": "b1076dfc-b9ad-4769-8c92-a6c4dae69d19",
    "_uuid": "8f2839f25d086af736a60e9eeb907d3b93b6e0e5",
    "execution": {
     "iopub.execute_input": "2021-03-02T22:27:12.157205Z",
     "iopub.status.busy": "2021-03-02T22:27:12.156515Z",
     "iopub.status.idle": "2021-03-02T22:27:22.655541Z",
     "shell.execute_reply": "2021-03-02T22:27:22.654930Z"
    },
    "papermill": {
     "duration": 10.558439,
     "end_time": "2021-03-02T22:27:22.655664",
     "exception": false,
     "start_time": "2021-03-02T22:27:12.097225",
     "status": "completed"
    },
    "tags": []
   },
   "outputs": [],
   "source": [
    "import numpy as np\n",
    "import pandas as pd\n",
    "import seaborn as sns \n",
    "sns.set_style('whitegrid') \n",
    "import matplotlib.pyplot as plt \n",
    "plt.style.use('seaborn-white')\n",
    "from mpl_toolkits.mplot3d import Axes3D \n",
    "import chart_studio.plotly as py\n",
    "from plotly import __version__\n",
    "import graphviz"
   ]
  },
  {
   "cell_type": "code",
   "execution_count": 2,
   "metadata": {},
   "outputs": [],
   "source": [
    "import warnings\n",
    "warnings.filterwarnings('ignore')"
   ]
  },
  {
   "cell_type": "markdown",
   "metadata": {
    "papermill": {
     "duration": 0.053546,
     "end_time": "2021-03-02T22:27:22.763976",
     "exception": false,
     "start_time": "2021-03-02T22:27:22.710430",
     "status": "completed"
    },
    "tags": []
   },
   "source": [
    "### 2. Loading Dataset"
   ]
  },
  {
   "cell_type": "code",
   "execution_count": 3,
   "metadata": {
    "_cell_guid": "79c7e3d0-c299-4dcb-8224-4455121ee9b0",
    "_uuid": "d629ff2d2480ee46fbb7e2d37f6b5fab8052498a",
    "execution": {
     "iopub.execute_input": "2021-03-02T22:27:22.888957Z",
     "iopub.status.busy": "2021-03-02T22:27:22.888275Z",
     "iopub.status.idle": "2021-03-02T22:27:22.959687Z",
     "shell.execute_reply": "2021-03-02T22:27:22.958684Z"
    },
    "papermill": {
     "duration": 0.141747,
     "end_time": "2021-03-02T22:27:22.959857",
     "exception": false,
     "start_time": "2021-03-02T22:27:22.818110",
     "status": "completed"
    },
    "tags": []
   },
   "outputs": [],
   "source": [
    "df = pd.read_csv(r\"C:\\Users\\NISHU\\Minor Project\\datasets\\MegaTelCo.csv\")"
   ]
  },
  {
   "cell_type": "code",
   "execution_count": 4,
   "metadata": {
    "execution": {
     "iopub.execute_input": "2021-03-02T22:27:23.323475Z",
     "iopub.status.busy": "2021-03-02T22:27:23.322871Z",
     "iopub.status.idle": "2021-03-02T22:27:23.358588Z",
     "shell.execute_reply": "2021-03-02T22:27:23.359135Z"
    },
    "papermill": {
     "duration": 0.093171,
     "end_time": "2021-03-02T22:27:23.359294",
     "exception": false,
     "start_time": "2021-03-02T22:27:23.266123",
     "status": "completed"
    },
    "tags": []
   },
   "outputs": [
    {
     "data": {
      "text/html": [
       "<div>\n",
       "<style scoped>\n",
       "    .dataframe tbody tr th:only-of-type {\n",
       "        vertical-align: middle;\n",
       "    }\n",
       "\n",
       "    .dataframe tbody tr th {\n",
       "        vertical-align: top;\n",
       "    }\n",
       "\n",
       "    .dataframe thead th {\n",
       "        text-align: right;\n",
       "    }\n",
       "</style>\n",
       "<table border=\"1\" class=\"dataframe\">\n",
       "  <thead>\n",
       "    <tr style=\"text-align: right;\">\n",
       "      <th></th>\n",
       "      <th>customerID</th>\n",
       "      <th>Gender</th>\n",
       "      <th>SeniorCitizen</th>\n",
       "      <th>Partner</th>\n",
       "      <th>Dependents</th>\n",
       "      <th>Tenure</th>\n",
       "      <th>PhoneService</th>\n",
       "      <th>MultipleLines</th>\n",
       "      <th>InternetService</th>\n",
       "      <th>OnlineSecurity</th>\n",
       "      <th>...</th>\n",
       "      <th>DeviceProtection</th>\n",
       "      <th>TechSupport</th>\n",
       "      <th>StreamingTV</th>\n",
       "      <th>StreamingMovies</th>\n",
       "      <th>Contract</th>\n",
       "      <th>PaperlessBilling</th>\n",
       "      <th>PaymentMethod</th>\n",
       "      <th>MonthlyCharges</th>\n",
       "      <th>TotalCharges</th>\n",
       "      <th>Churn</th>\n",
       "    </tr>\n",
       "  </thead>\n",
       "  <tbody>\n",
       "    <tr>\n",
       "      <th>0</th>\n",
       "      <td>7590-VHVEG</td>\n",
       "      <td>Female</td>\n",
       "      <td>0</td>\n",
       "      <td>Yes</td>\n",
       "      <td>No</td>\n",
       "      <td>1</td>\n",
       "      <td>No</td>\n",
       "      <td>No</td>\n",
       "      <td>DSL</td>\n",
       "      <td>No</td>\n",
       "      <td>...</td>\n",
       "      <td>No</td>\n",
       "      <td>No</td>\n",
       "      <td>No</td>\n",
       "      <td>No</td>\n",
       "      <td>Month-to-month</td>\n",
       "      <td>Yes</td>\n",
       "      <td>Electronic check</td>\n",
       "      <td>29.85</td>\n",
       "      <td>29.85</td>\n",
       "      <td>No</td>\n",
       "    </tr>\n",
       "    <tr>\n",
       "      <th>1</th>\n",
       "      <td>5575-GNVDE</td>\n",
       "      <td>Male</td>\n",
       "      <td>0</td>\n",
       "      <td>No</td>\n",
       "      <td>No</td>\n",
       "      <td>34</td>\n",
       "      <td>Yes</td>\n",
       "      <td>No</td>\n",
       "      <td>DSL</td>\n",
       "      <td>Yes</td>\n",
       "      <td>...</td>\n",
       "      <td>Yes</td>\n",
       "      <td>No</td>\n",
       "      <td>No</td>\n",
       "      <td>No</td>\n",
       "      <td>One year</td>\n",
       "      <td>No</td>\n",
       "      <td>Mailed check</td>\n",
       "      <td>56.95</td>\n",
       "      <td>1889.5</td>\n",
       "      <td>No</td>\n",
       "    </tr>\n",
       "    <tr>\n",
       "      <th>2</th>\n",
       "      <td>3668-QPYBK</td>\n",
       "      <td>Male</td>\n",
       "      <td>0</td>\n",
       "      <td>No</td>\n",
       "      <td>No</td>\n",
       "      <td>2</td>\n",
       "      <td>Yes</td>\n",
       "      <td>No</td>\n",
       "      <td>DSL</td>\n",
       "      <td>Yes</td>\n",
       "      <td>...</td>\n",
       "      <td>No</td>\n",
       "      <td>No</td>\n",
       "      <td>No</td>\n",
       "      <td>No</td>\n",
       "      <td>Month-to-month</td>\n",
       "      <td>Yes</td>\n",
       "      <td>Mailed check</td>\n",
       "      <td>53.85</td>\n",
       "      <td>108.15</td>\n",
       "      <td>Yes</td>\n",
       "    </tr>\n",
       "    <tr>\n",
       "      <th>3</th>\n",
       "      <td>7795-CFOCW</td>\n",
       "      <td>Male</td>\n",
       "      <td>0</td>\n",
       "      <td>No</td>\n",
       "      <td>No</td>\n",
       "      <td>45</td>\n",
       "      <td>No</td>\n",
       "      <td>No</td>\n",
       "      <td>DSL</td>\n",
       "      <td>Yes</td>\n",
       "      <td>...</td>\n",
       "      <td>Yes</td>\n",
       "      <td>Yes</td>\n",
       "      <td>No</td>\n",
       "      <td>No</td>\n",
       "      <td>One year</td>\n",
       "      <td>No</td>\n",
       "      <td>Bank transfer (automatic)</td>\n",
       "      <td>42.30</td>\n",
       "      <td>1840.75</td>\n",
       "      <td>No</td>\n",
       "    </tr>\n",
       "    <tr>\n",
       "      <th>4</th>\n",
       "      <td>9237-HQITU</td>\n",
       "      <td>Female</td>\n",
       "      <td>0</td>\n",
       "      <td>No</td>\n",
       "      <td>No</td>\n",
       "      <td>2</td>\n",
       "      <td>Yes</td>\n",
       "      <td>No</td>\n",
       "      <td>Fiber optic</td>\n",
       "      <td>No</td>\n",
       "      <td>...</td>\n",
       "      <td>No</td>\n",
       "      <td>No</td>\n",
       "      <td>No</td>\n",
       "      <td>No</td>\n",
       "      <td>Month-to-month</td>\n",
       "      <td>Yes</td>\n",
       "      <td>Electronic check</td>\n",
       "      <td>70.70</td>\n",
       "      <td>151.65</td>\n",
       "      <td>Yes</td>\n",
       "    </tr>\n",
       "  </tbody>\n",
       "</table>\n",
       "<p>5 rows × 21 columns</p>\n",
       "</div>"
      ],
      "text/plain": [
       "   customerID  Gender  SeniorCitizen Partner Dependents  Tenure PhoneService  \\\n",
       "0  7590-VHVEG  Female              0     Yes         No       1           No   \n",
       "1  5575-GNVDE    Male              0      No         No      34          Yes   \n",
       "2  3668-QPYBK    Male              0      No         No       2          Yes   \n",
       "3  7795-CFOCW    Male              0      No         No      45           No   \n",
       "4  9237-HQITU  Female              0      No         No       2          Yes   \n",
       "\n",
       "  MultipleLines InternetService OnlineSecurity  ... DeviceProtection  \\\n",
       "0            No             DSL             No  ...               No   \n",
       "1            No             DSL            Yes  ...              Yes   \n",
       "2            No             DSL            Yes  ...               No   \n",
       "3            No             DSL            Yes  ...              Yes   \n",
       "4            No     Fiber optic             No  ...               No   \n",
       "\n",
       "  TechSupport StreamingTV StreamingMovies        Contract PaperlessBilling  \\\n",
       "0          No          No              No  Month-to-month              Yes   \n",
       "1          No          No              No        One year               No   \n",
       "2          No          No              No  Month-to-month              Yes   \n",
       "3         Yes          No              No        One year               No   \n",
       "4          No          No              No  Month-to-month              Yes   \n",
       "\n",
       "               PaymentMethod MonthlyCharges  TotalCharges Churn  \n",
       "0           Electronic check          29.85         29.85    No  \n",
       "1               Mailed check          56.95        1889.5    No  \n",
       "2               Mailed check          53.85        108.15   Yes  \n",
       "3  Bank transfer (automatic)          42.30       1840.75    No  \n",
       "4           Electronic check          70.70        151.65   Yes  \n",
       "\n",
       "[5 rows x 21 columns]"
      ]
     },
     "execution_count": 4,
     "metadata": {},
     "output_type": "execute_result"
    }
   ],
   "source": [
    "df.head(5)"
   ]
  },
  {
   "cell_type": "code",
   "execution_count": 5,
   "metadata": {
    "execution": {
     "iopub.execute_input": "2021-03-02T22:27:23.472895Z",
     "iopub.status.busy": "2021-03-02T22:27:23.472188Z",
     "iopub.status.idle": "2021-03-02T22:27:23.500383Z",
     "shell.execute_reply": "2021-03-02T22:27:23.500911Z"
    },
    "papermill": {
     "duration": 0.086841,
     "end_time": "2021-03-02T22:27:23.501049",
     "exception": false,
     "start_time": "2021-03-02T22:27:23.414208",
     "status": "completed"
    },
    "tags": []
   },
   "outputs": [
    {
     "data": {
      "text/html": [
       "<div>\n",
       "<style scoped>\n",
       "    .dataframe tbody tr th:only-of-type {\n",
       "        vertical-align: middle;\n",
       "    }\n",
       "\n",
       "    .dataframe tbody tr th {\n",
       "        vertical-align: top;\n",
       "    }\n",
       "\n",
       "    .dataframe thead th {\n",
       "        text-align: right;\n",
       "    }\n",
       "</style>\n",
       "<table border=\"1\" class=\"dataframe\">\n",
       "  <thead>\n",
       "    <tr style=\"text-align: right;\">\n",
       "      <th></th>\n",
       "      <th>customerID</th>\n",
       "      <th>Gender</th>\n",
       "      <th>SeniorCitizen</th>\n",
       "      <th>Partner</th>\n",
       "      <th>Dependents</th>\n",
       "      <th>Tenure</th>\n",
       "      <th>PhoneService</th>\n",
       "      <th>MultipleLines</th>\n",
       "      <th>InternetService</th>\n",
       "      <th>OnlineSecurity</th>\n",
       "      <th>...</th>\n",
       "      <th>DeviceProtection</th>\n",
       "      <th>TechSupport</th>\n",
       "      <th>StreamingTV</th>\n",
       "      <th>StreamingMovies</th>\n",
       "      <th>Contract</th>\n",
       "      <th>PaperlessBilling</th>\n",
       "      <th>PaymentMethod</th>\n",
       "      <th>MonthlyCharges</th>\n",
       "      <th>TotalCharges</th>\n",
       "      <th>Churn</th>\n",
       "    </tr>\n",
       "  </thead>\n",
       "  <tbody>\n",
       "    <tr>\n",
       "      <th>7038</th>\n",
       "      <td>6840-RESVB</td>\n",
       "      <td>Male</td>\n",
       "      <td>0</td>\n",
       "      <td>Yes</td>\n",
       "      <td>Yes</td>\n",
       "      <td>24</td>\n",
       "      <td>Yes</td>\n",
       "      <td>Yes</td>\n",
       "      <td>DSL</td>\n",
       "      <td>Yes</td>\n",
       "      <td>...</td>\n",
       "      <td>Yes</td>\n",
       "      <td>Yes</td>\n",
       "      <td>Yes</td>\n",
       "      <td>Yes</td>\n",
       "      <td>One year</td>\n",
       "      <td>Yes</td>\n",
       "      <td>Mailed check</td>\n",
       "      <td>84.80</td>\n",
       "      <td>1990.5</td>\n",
       "      <td>No</td>\n",
       "    </tr>\n",
       "    <tr>\n",
       "      <th>7039</th>\n",
       "      <td>2234-XADUH</td>\n",
       "      <td>Female</td>\n",
       "      <td>0</td>\n",
       "      <td>Yes</td>\n",
       "      <td>Yes</td>\n",
       "      <td>72</td>\n",
       "      <td>Yes</td>\n",
       "      <td>Yes</td>\n",
       "      <td>Fiber optic</td>\n",
       "      <td>No</td>\n",
       "      <td>...</td>\n",
       "      <td>Yes</td>\n",
       "      <td>No</td>\n",
       "      <td>Yes</td>\n",
       "      <td>Yes</td>\n",
       "      <td>One year</td>\n",
       "      <td>Yes</td>\n",
       "      <td>Credit card (automatic)</td>\n",
       "      <td>103.20</td>\n",
       "      <td>7362.9</td>\n",
       "      <td>No</td>\n",
       "    </tr>\n",
       "    <tr>\n",
       "      <th>7040</th>\n",
       "      <td>4801-JZAZL</td>\n",
       "      <td>Female</td>\n",
       "      <td>0</td>\n",
       "      <td>Yes</td>\n",
       "      <td>Yes</td>\n",
       "      <td>11</td>\n",
       "      <td>No</td>\n",
       "      <td>No</td>\n",
       "      <td>DSL</td>\n",
       "      <td>Yes</td>\n",
       "      <td>...</td>\n",
       "      <td>No</td>\n",
       "      <td>No</td>\n",
       "      <td>No</td>\n",
       "      <td>No</td>\n",
       "      <td>Month-to-month</td>\n",
       "      <td>Yes</td>\n",
       "      <td>Electronic check</td>\n",
       "      <td>29.60</td>\n",
       "      <td>346.45</td>\n",
       "      <td>No</td>\n",
       "    </tr>\n",
       "    <tr>\n",
       "      <th>7041</th>\n",
       "      <td>8361-LTMKD</td>\n",
       "      <td>Male</td>\n",
       "      <td>1</td>\n",
       "      <td>Yes</td>\n",
       "      <td>No</td>\n",
       "      <td>4</td>\n",
       "      <td>Yes</td>\n",
       "      <td>Yes</td>\n",
       "      <td>Fiber optic</td>\n",
       "      <td>No</td>\n",
       "      <td>...</td>\n",
       "      <td>No</td>\n",
       "      <td>No</td>\n",
       "      <td>No</td>\n",
       "      <td>No</td>\n",
       "      <td>Month-to-month</td>\n",
       "      <td>Yes</td>\n",
       "      <td>Mailed check</td>\n",
       "      <td>74.40</td>\n",
       "      <td>306.6</td>\n",
       "      <td>Yes</td>\n",
       "    </tr>\n",
       "    <tr>\n",
       "      <th>7042</th>\n",
       "      <td>3186-AJIEK</td>\n",
       "      <td>Male</td>\n",
       "      <td>0</td>\n",
       "      <td>No</td>\n",
       "      <td>No</td>\n",
       "      <td>66</td>\n",
       "      <td>Yes</td>\n",
       "      <td>No</td>\n",
       "      <td>Fiber optic</td>\n",
       "      <td>Yes</td>\n",
       "      <td>...</td>\n",
       "      <td>Yes</td>\n",
       "      <td>Yes</td>\n",
       "      <td>Yes</td>\n",
       "      <td>Yes</td>\n",
       "      <td>Two year</td>\n",
       "      <td>Yes</td>\n",
       "      <td>Bank transfer (automatic)</td>\n",
       "      <td>105.65</td>\n",
       "      <td>6844.5</td>\n",
       "      <td>No</td>\n",
       "    </tr>\n",
       "  </tbody>\n",
       "</table>\n",
       "<p>5 rows × 21 columns</p>\n",
       "</div>"
      ],
      "text/plain": [
       "      customerID  Gender  SeniorCitizen Partner Dependents  Tenure  \\\n",
       "7038  6840-RESVB    Male              0     Yes        Yes      24   \n",
       "7039  2234-XADUH  Female              0     Yes        Yes      72   \n",
       "7040  4801-JZAZL  Female              0     Yes        Yes      11   \n",
       "7041  8361-LTMKD    Male              1     Yes         No       4   \n",
       "7042  3186-AJIEK    Male              0      No         No      66   \n",
       "\n",
       "     PhoneService MultipleLines InternetService OnlineSecurity  ...  \\\n",
       "7038          Yes           Yes             DSL            Yes  ...   \n",
       "7039          Yes           Yes     Fiber optic             No  ...   \n",
       "7040           No            No             DSL            Yes  ...   \n",
       "7041          Yes           Yes     Fiber optic             No  ...   \n",
       "7042          Yes            No     Fiber optic            Yes  ...   \n",
       "\n",
       "     DeviceProtection TechSupport StreamingTV StreamingMovies        Contract  \\\n",
       "7038              Yes         Yes         Yes             Yes        One year   \n",
       "7039              Yes          No         Yes             Yes        One year   \n",
       "7040               No          No          No              No  Month-to-month   \n",
       "7041               No          No          No              No  Month-to-month   \n",
       "7042              Yes         Yes         Yes             Yes        Two year   \n",
       "\n",
       "     PaperlessBilling              PaymentMethod MonthlyCharges  TotalCharges  \\\n",
       "7038              Yes               Mailed check          84.80        1990.5   \n",
       "7039              Yes    Credit card (automatic)         103.20        7362.9   \n",
       "7040              Yes           Electronic check          29.60        346.45   \n",
       "7041              Yes               Mailed check          74.40         306.6   \n",
       "7042              Yes  Bank transfer (automatic)         105.65        6844.5   \n",
       "\n",
       "     Churn  \n",
       "7038    No  \n",
       "7039    No  \n",
       "7040    No  \n",
       "7041   Yes  \n",
       "7042    No  \n",
       "\n",
       "[5 rows x 21 columns]"
      ]
     },
     "execution_count": 5,
     "metadata": {},
     "output_type": "execute_result"
    }
   ],
   "source": [
    "df.tail(5)"
   ]
  },
  {
   "cell_type": "code",
   "execution_count": 6,
   "metadata": {},
   "outputs": [
    {
     "data": {
      "text/plain": [
       "(7043, 21)"
      ]
     },
     "execution_count": 6,
     "metadata": {},
     "output_type": "execute_result"
    }
   ],
   "source": [
    "df.shape"
   ]
  },
  {
   "cell_type": "code",
   "execution_count": 7,
   "metadata": {
    "execution": {
     "iopub.execute_input": "2021-03-02T22:27:23.194858Z",
     "iopub.status.busy": "2021-03-02T22:27:23.193921Z",
     "iopub.status.idle": "2021-03-02T22:27:23.211241Z",
     "shell.execute_reply": "2021-03-02T22:27:23.211866Z"
    },
    "papermill": {
     "duration": 0.091993,
     "end_time": "2021-03-02T22:27:23.212016",
     "exception": false,
     "start_time": "2021-03-02T22:27:23.120023",
     "status": "completed"
    },
    "tags": []
   },
   "outputs": [
    {
     "name": "stdout",
     "output_type": "stream",
     "text": [
      "<class 'pandas.core.frame.DataFrame'>\n",
      "RangeIndex: 7043 entries, 0 to 7042\n",
      "Data columns (total 21 columns):\n",
      " #   Column            Non-Null Count  Dtype  \n",
      "---  ------            --------------  -----  \n",
      " 0   customerID        7043 non-null   object \n",
      " 1   Gender            7043 non-null   object \n",
      " 2   SeniorCitizen     7043 non-null   int64  \n",
      " 3   Partner           7043 non-null   object \n",
      " 4   Dependents        7043 non-null   object \n",
      " 5   Tenure            7043 non-null   int64  \n",
      " 6   PhoneService      7043 non-null   object \n",
      " 7   MultipleLines     7043 non-null   object \n",
      " 8   InternetService   7043 non-null   object \n",
      " 9   OnlineSecurity    7043 non-null   object \n",
      " 10  OnlineBackup      7043 non-null   object \n",
      " 11  DeviceProtection  7043 non-null   object \n",
      " 12  TechSupport       7043 non-null   object \n",
      " 13  StreamingTV       7043 non-null   object \n",
      " 14  StreamingMovies   7043 non-null   object \n",
      " 15  Contract          7043 non-null   object \n",
      " 16  PaperlessBilling  7043 non-null   object \n",
      " 17  PaymentMethod     7043 non-null   object \n",
      " 18  MonthlyCharges    7043 non-null   float64\n",
      " 19  TotalCharges      7043 non-null   object \n",
      " 20  Churn             7043 non-null   object \n",
      "dtypes: float64(1), int64(2), object(18)\n",
      "memory usage: 1.1+ MB\n"
     ]
    }
   ],
   "source": [
    "df.info()"
   ]
  },
  {
   "cell_type": "markdown",
   "metadata": {
    "papermill": {
     "duration": 0.052741,
     "end_time": "2021-03-02T22:27:23.066399",
     "exception": false,
     "start_time": "2021-03-02T22:27:23.013658",
     "status": "completed"
    },
    "tags": []
   },
   "source": [
    "### 3. About the Data\n",
    "This dataset has 7043 samples and 21 attributes(2 integer, 1 float, and 18 objects)\n",
    "* Target Feature: Churn\n",
    "* Numeric Features: Tenure, MonthlyCharges, and TotalCharges\n",
    "* Categorical Features: CustomerID, Gender, SeniorCitizen, Partner, Dependents, PhoneService, MulitpleLines, InternetService, OnlineSecurity, OnlineBackup, DeviceProtection, TechSupport, StreamingTV, StreamingMovies, Contract, PaperlessBilling, PaymentMethod"
   ]
  },
  {
   "cell_type": "code",
   "execution_count": 8,
   "metadata": {
    "execution": {
     "iopub.execute_input": "2021-03-02T22:27:23.736739Z",
     "iopub.status.busy": "2021-03-02T22:27:23.736111Z",
     "iopub.status.idle": "2021-03-02T22:27:23.754287Z",
     "shell.execute_reply": "2021-03-02T22:27:23.754900Z"
    },
    "papermill": {
     "duration": 0.082506,
     "end_time": "2021-03-02T22:27:23.755041",
     "exception": false,
     "start_time": "2021-03-02T22:27:23.672535",
     "status": "completed"
    },
    "tags": []
   },
   "outputs": [
    {
     "data": {
      "text/html": [
       "<div>\n",
       "<style scoped>\n",
       "    .dataframe tbody tr th:only-of-type {\n",
       "        vertical-align: middle;\n",
       "    }\n",
       "\n",
       "    .dataframe tbody tr th {\n",
       "        vertical-align: top;\n",
       "    }\n",
       "\n",
       "    .dataframe thead th {\n",
       "        text-align: right;\n",
       "    }\n",
       "</style>\n",
       "<table border=\"1\" class=\"dataframe\">\n",
       "  <thead>\n",
       "    <tr style=\"text-align: right;\">\n",
       "      <th></th>\n",
       "      <th>SeniorCitizen</th>\n",
       "      <th>Tenure</th>\n",
       "      <th>MonthlyCharges</th>\n",
       "    </tr>\n",
       "  </thead>\n",
       "  <tbody>\n",
       "    <tr>\n",
       "      <th>count</th>\n",
       "      <td>7043.000000</td>\n",
       "      <td>7043.000000</td>\n",
       "      <td>7043.000000</td>\n",
       "    </tr>\n",
       "    <tr>\n",
       "      <th>mean</th>\n",
       "      <td>0.162147</td>\n",
       "      <td>32.371149</td>\n",
       "      <td>64.761692</td>\n",
       "    </tr>\n",
       "    <tr>\n",
       "      <th>std</th>\n",
       "      <td>0.368612</td>\n",
       "      <td>24.559481</td>\n",
       "      <td>30.090047</td>\n",
       "    </tr>\n",
       "    <tr>\n",
       "      <th>min</th>\n",
       "      <td>0.000000</td>\n",
       "      <td>0.000000</td>\n",
       "      <td>18.250000</td>\n",
       "    </tr>\n",
       "    <tr>\n",
       "      <th>25%</th>\n",
       "      <td>0.000000</td>\n",
       "      <td>9.000000</td>\n",
       "      <td>35.500000</td>\n",
       "    </tr>\n",
       "    <tr>\n",
       "      <th>50%</th>\n",
       "      <td>0.000000</td>\n",
       "      <td>29.000000</td>\n",
       "      <td>70.350000</td>\n",
       "    </tr>\n",
       "    <tr>\n",
       "      <th>75%</th>\n",
       "      <td>0.000000</td>\n",
       "      <td>55.000000</td>\n",
       "      <td>89.850000</td>\n",
       "    </tr>\n",
       "    <tr>\n",
       "      <th>max</th>\n",
       "      <td>1.000000</td>\n",
       "      <td>72.000000</td>\n",
       "      <td>118.750000</td>\n",
       "    </tr>\n",
       "  </tbody>\n",
       "</table>\n",
       "</div>"
      ],
      "text/plain": [
       "       SeniorCitizen       Tenure  MonthlyCharges\n",
       "count    7043.000000  7043.000000     7043.000000\n",
       "mean        0.162147    32.371149       64.761692\n",
       "std         0.368612    24.559481       30.090047\n",
       "min         0.000000     0.000000       18.250000\n",
       "25%         0.000000     9.000000       35.500000\n",
       "50%         0.000000    29.000000       70.350000\n",
       "75%         0.000000    55.000000       89.850000\n",
       "max         1.000000    72.000000      118.750000"
      ]
     },
     "execution_count": 8,
     "metadata": {},
     "output_type": "execute_result"
    }
   ],
   "source": [
    "df.describe()"
   ]
  },
  {
   "cell_type": "markdown",
   "metadata": {
    "papermill": {
     "duration": 0.056154,
     "end_time": "2021-03-02T22:27:23.871289",
     "exception": false,
     "start_time": "2021-03-02T22:27:23.815135",
     "status": "completed"
    },
    "tags": []
   },
   "source": [
    "### 4. Data Reshaping\n",
    "* Rename the features 'tenure' and 'gender'\n",
    "* Convert the feature 'TotalCharges' to numerical data type\n",
    "* Converting the feature 'SeniorCitizen' to object data type"
   ]
  },
  {
   "cell_type": "code",
   "execution_count": 9,
   "metadata": {
    "execution": {
     "iopub.execute_input": "2021-03-02T22:27:23.987958Z",
     "iopub.status.busy": "2021-03-02T22:27:23.987330Z",
     "iopub.status.idle": "2021-03-02T22:27:24.024337Z",
     "shell.execute_reply": "2021-03-02T22:27:24.024902Z"
    },
    "papermill": {
     "duration": 0.098421,
     "end_time": "2021-03-02T22:27:24.025043",
     "exception": false,
     "start_time": "2021-03-02T22:27:23.926622",
     "status": "completed"
    },
    "tags": []
   },
   "outputs": [
    {
     "name": "stdout",
     "output_type": "stream",
     "text": [
      "<class 'pandas.core.frame.DataFrame'>\n",
      "RangeIndex: 7043 entries, 0 to 7042\n",
      "Data columns (total 21 columns):\n",
      " #   Column            Non-Null Count  Dtype  \n",
      "---  ------            --------------  -----  \n",
      " 0   customerID        7043 non-null   object \n",
      " 1   Gender            7043 non-null   object \n",
      " 2   SeniorCitizen     7043 non-null   object \n",
      " 3   Partner           7043 non-null   object \n",
      " 4   Dependents        7043 non-null   object \n",
      " 5   Tenure            7043 non-null   int64  \n",
      " 6   PhoneService      7043 non-null   object \n",
      " 7   MultipleLines     7043 non-null   object \n",
      " 8   InternetService   7043 non-null   object \n",
      " 9   OnlineSecurity    7043 non-null   object \n",
      " 10  OnlineBackup      7043 non-null   object \n",
      " 11  DeviceProtection  7043 non-null   object \n",
      " 12  TechSupport       7043 non-null   object \n",
      " 13  StreamingTV       7043 non-null   object \n",
      " 14  StreamingMovies   7043 non-null   object \n",
      " 15  Contract          7043 non-null   object \n",
      " 16  PaperlessBilling  7043 non-null   object \n",
      " 17  PaymentMethod     7043 non-null   object \n",
      " 18  MonthlyCharges    7043 non-null   float64\n",
      " 19  TotalCharges      7032 non-null   float32\n",
      " 20  Churn             7043 non-null   object \n",
      "dtypes: float32(1), float64(1), int64(1), object(18)\n",
      "memory usage: 1.1+ MB\n"
     ]
    }
   ],
   "source": [
    "# renaming 'tenure' and 'gender'\n",
    "df = df.rename(columns={'tenure': 'Tenure', 'gender': 'Gender'})\n",
    "\n",
    "# converting 'TotalCharges' to numerical data type\n",
    "df['TotalCharges'] = pd.to_numeric(df['TotalCharges'], errors='coerce', downcast='float')\n",
    "\n",
    "# converting 'SeniorCitizen' to object data type\n",
    "df['SeniorCitizen'] = df['SeniorCitizen'].astype(np.object)\n",
    "\n",
    "# check\n",
    "df.info()"
   ]
  },
  {
   "cell_type": "markdown",
   "metadata": {
    "papermill": {
     "duration": 0.05668,
     "end_time": "2021-03-02T22:27:24.139023",
     "exception": false,
     "start_time": "2021-03-02T22:27:24.082343",
     "status": "completed"
    },
    "tags": []
   },
   "source": [
    "# Exploratory Data Analysis(EDA)"
   ]
  },
  {
   "cell_type": "markdown",
   "metadata": {
    "papermill": {
     "duration": 0.056016,
     "end_time": "2021-03-02T22:27:24.252117",
     "exception": false,
     "start_time": "2021-03-02T22:27:24.196101",
     "status": "completed"
    },
    "tags": []
   },
   "source": [
    "### 1. Target Variable\n",
    "(1) Churn: Customer churn rate of TelCo from this dataset is 27%, implying this is an ****imbalanced dataset****."
   ]
  },
  {
   "cell_type": "code",
   "execution_count": 10,
   "metadata": {
    "execution": {
     "iopub.execute_input": "2021-03-02T22:27:24.369491Z",
     "iopub.status.busy": "2021-03-02T22:27:24.368489Z",
     "iopub.status.idle": "2021-03-02T22:27:24.493791Z",
     "shell.execute_reply": "2021-03-02T22:27:24.494325Z"
    },
    "papermill": {
     "duration": 0.185377,
     "end_time": "2021-03-02T22:27:24.494477",
     "exception": false,
     "start_time": "2021-03-02T22:27:24.309100",
     "status": "completed"
    },
    "tags": []
   },
   "outputs": [
    {
     "data": {
      "text/plain": [
       "Text(0.5, 1.0, 'Churn vs Non-Churn')"
      ]
     },
     "execution_count": 10,
     "metadata": {},
     "output_type": "execute_result"
    },
    {
     "data": {
      "image/png": "[encoded data removed]",
      "text/plain": [
       "<Figure size 432x288 with 1 Axes>"
      ]
     },
     "metadata": {},
     "output_type": "display_data"
    }
   ],
   "source": [
    "# Pie chart of churn\n",
    "churn_rate = df.Churn.value_counts() / len(df.Churn)\n",
    "labels = 'Non-Churn', 'Churn'\n",
    "\n",
    "fig, ax = plt.subplots()\n",
    "ax.pie(churn_rate, labels=labels, autopct='%.f%%')  \n",
    "ax.set_title('Churn vs Non-Churn', fontsize=16)"
   ]
  },
  {
   "cell_type": "markdown",
   "metadata": {
    "papermill": {
     "duration": 0.057988,
     "end_time": "2021-03-02T22:27:24.610652",
     "exception": false,
     "start_time": "2021-03-02T22:27:24.552664",
     "status": "completed"
    },
    "tags": []
   },
   "source": [
    "### 2. Numeric Features\n",
    "(1) Tenure: Customer with less tenure is more likely to churn.\n",
    "\n",
    "(2) Monthly Charges: Customer with low monthly charges is less likely to churn; however, the churn trend between churn customers and non-churn customers gets similar as monthly charges go up.\n",
    "\n",
    "(3) Total Charges: The distribution is similar for both churn customers and non-churn customers, implying that the feature MonthlyCharges may not be a good predictor."
   ]
  },
  {
   "cell_type": "code",
   "execution_count": 11,
   "metadata": {
    "execution": {
     "iopub.execute_input": "2021-03-02T22:27:24.734276Z",
     "iopub.status.busy": "2021-03-02T22:27:24.733258Z",
     "iopub.status.idle": "2021-03-02T22:27:25.749666Z",
     "shell.execute_reply": "2021-03-02T22:27:25.750149Z"
    },
    "papermill": {
     "duration": 1.079623,
     "end_time": "2021-03-02T22:27:25.750295",
     "exception": false,
     "start_time": "2021-03-02T22:27:24.670672",
     "status": "completed"
    },
    "tags": []
   },
   "outputs": [
    {
     "data": {
      "image/png": "[encoded data removed]",
      "text/plain": [
       "<Figure size 576x360 with 1 Axes>"
      ]
     },
     "metadata": {},
     "output_type": "display_data"
    },
    {
     "data": {
      "image/png": "[encoded data removed]",
      "text/plain": [
       "<Figure size 576x360 with 1 Axes>"
      ]
     },
     "metadata": {},
     "output_type": "display_data"
    },
    {
     "data": {
      "image/png": "[encoded data removed]",
      "text/plain": [
       "<Figure size 576x360 with 1 Axes>"
      ]
     },
     "metadata": {},
     "output_type": "display_data"
    }
   ],
   "source": [
    "# numerical features grouped by churn\n",
    "for col in ['Tenure', 'MonthlyCharges', 'TotalCharges']:\n",
    "    fig = plt.figure(figsize=(8,5))\n",
    "    sns.distplot(df[df.Churn == 'No'][col], bins=10, color='orange', label='Non-Churn', kde=True)\n",
    "    sns.distplot(df[df.Churn == 'Yes'][col], bins=10, color='blue', label='Churn', kde=True)\n",
    "    plt.legend(labels)"
   ]
  },
  {
   "cell_type": "markdown",
   "metadata": {
    "papermill": {
     "duration": 0.061285,
     "end_time": "2021-03-02T22:27:25.873280",
     "exception": false,
     "start_time": "2021-03-02T22:27:25.811995",
     "status": "completed"
    },
    "tags": []
   },
   "source": [
    "(4) Outliers: The box plots show there is **no outliers** in this data set."
   ]
  },
  {
   "cell_type": "code",
   "execution_count": 12,
   "metadata": {
    "execution": {
     "iopub.execute_input": "2021-03-02T22:27:26.002152Z",
     "iopub.status.busy": "2021-03-02T22:27:26.001077Z",
     "iopub.status.idle": "2021-03-02T22:27:26.756643Z",
     "shell.execute_reply": "2021-03-02T22:27:26.755991Z"
    },
    "papermill": {
     "duration": 0.821955,
     "end_time": "2021-03-02T22:27:26.756756",
     "exception": false,
     "start_time": "2021-03-02T22:27:25.934801",
     "status": "completed"
    },
    "tags": []
   },
   "outputs": [
    {
     "data": {
      "image/png": "[encoded data removed]",
      "text/plain": [
       "<Figure size 576x216 with 1 Axes>"
      ]
     },
     "metadata": {},
     "output_type": "display_data"
    },
    {
     "data": {
      "image/png": "[encoded data removed]",
      "text/plain": [
       "<Figure size 576x216 with 1 Axes>"
      ]
     },
     "metadata": {},
     "output_type": "display_data"
    },
    {
     "data": {
      "image/png": "[encoded data removed]",
      "text/plain": [
       "<Figure size 576x216 with 1 Axes>"
      ]
     },
     "metadata": {},
     "output_type": "display_data"
    }
   ],
   "source": [
    "# check outliers\n",
    "for col in ['Tenure', 'MonthlyCharges', 'TotalCharges']:\n",
    "    fig = plt.figure(figsize=(8,3))\n",
    "    sns.boxplot(df[col])"
   ]
  },
  {
   "cell_type": "markdown",
   "metadata": {
    "papermill": {
     "duration": 0.063148,
     "end_time": "2021-03-02T22:27:26.883439",
     "exception": false,
     "start_time": "2021-03-02T22:27:26.820291",
     "status": "completed"
    },
    "tags": []
   },
   "source": [
    "(4) Skewness: The density plots show they are **not normal distributions**."
   ]
  },
  {
   "cell_type": "code",
   "execution_count": 13,
   "metadata": {
    "execution": {
     "iopub.execute_input": "2021-03-02T22:27:27.021570Z",
     "iopub.status.busy": "2021-03-02T22:27:27.020964Z",
     "iopub.status.idle": "2021-03-02T22:27:27.800365Z",
     "shell.execute_reply": "2021-03-02T22:27:27.799393Z"
    },
    "papermill": {
     "duration": 0.853611,
     "end_time": "2021-03-02T22:27:27.800492",
     "exception": false,
     "start_time": "2021-03-02T22:27:26.946881",
     "status": "completed"
    },
    "tags": []
   },
   "outputs": [
    {
     "data": {
      "image/png": "[encoded data removed]",
      "text/plain": [
       "<Figure size 576x216 with 1 Axes>"
      ]
     },
     "metadata": {},
     "output_type": "display_data"
    },
    {
     "data": {
      "image/png": "[encoded data removed]",
      "text/plain": [
       "<Figure size 576x216 with 1 Axes>"
      ]
     },
     "metadata": {},
     "output_type": "display_data"
    },
    {
     "data": {
      "image/png": "[encoded data removed]",
      "text/plain": [
       "<Figure size 576x216 with 1 Axes>"
      ]
     },
     "metadata": {},
     "output_type": "display_data"
    }
   ],
   "source": [
    "# distribution\n",
    "for col in ['Tenure', 'MonthlyCharges', 'TotalCharges']:\n",
    "    fig = plt.figure(figsize=(8,3))\n",
    "    sns.kdeplot(df[col])"
   ]
  },
  {
   "cell_type": "markdown",
   "metadata": {
    "papermill": {
     "duration": 0.074467,
     "end_time": "2021-03-02T22:27:27.957939",
     "exception": false,
     "start_time": "2021-03-02T22:27:27.883472",
     "status": "completed"
    },
    "tags": []
   },
   "source": [
    "(6) Correlation: The correlation matrix plot shows that these numeric features have a positive relationship."
   ]
  },
  {
   "cell_type": "code",
   "execution_count": 14,
   "metadata": {
    "execution": {
     "iopub.execute_input": "2021-03-02T22:27:28.100516Z",
     "iopub.status.busy": "2021-03-02T22:27:28.097200Z",
     "iopub.status.idle": "2021-03-02T22:27:28.349937Z",
     "shell.execute_reply": "2021-03-02T22:27:28.349391Z"
    },
    "papermill": {
     "duration": 0.326193,
     "end_time": "2021-03-02T22:27:28.350050",
     "exception": false,
     "start_time": "2021-03-02T22:27:28.023857",
     "status": "completed"
    },
    "tags": []
   },
   "outputs": [
    {
     "data": {
      "text/plain": [
       "<AxesSubplot:>"
      ]
     },
     "execution_count": 14,
     "metadata": {},
     "output_type": "execute_result"
    },
    {
     "data": {
      "image/png": "[encoded data removed]",
      "text/plain": [
       "<Figure size 720x576 with 2 Axes>"
      ]
     },
     "metadata": {},
     "output_type": "display_data"
    }
   ],
   "source": [
    "# correlation between numerical features\n",
    "plt.figure(figsize=(10, 8))\n",
    "feature_corr = df.corr()\n",
    "sns.heatmap(feature_corr, annot=True, cmap='coolwarm')"
   ]
  },
  {
   "cell_type": "markdown",
   "metadata": {
    "papermill": {
     "duration": 0.068563,
     "end_time": "2021-03-02T22:27:28.486727",
     "exception": false,
     "start_time": "2021-03-02T22:27:28.418164",
     "status": "completed"
    },
    "tags": []
   },
   "source": [
    "### 3. Categorical Features\n",
    "\n",
    "(1) Gender: The churn rate is similar between male and female, indicating **Gender may not be a good predictor**.\n",
    "\n",
    "(2) Senior Citizen: Customer who is senior citizen is more likely to churn.\n",
    "\n",
    "(2) Partner: Customer who does not have partner is more likely to churn.\n",
    "\n",
    "(3) Dependents: Customer who does have dependents is more likely to churn."
   ]
  },
  {
   "cell_type": "code",
   "execution_count": 15,
   "metadata": {
    "execution": {
     "iopub.execute_input": "2021-03-02T22:27:28.629660Z",
     "iopub.status.busy": "2021-03-02T22:27:28.628652Z",
     "iopub.status.idle": "2021-03-02T22:27:29.282547Z",
     "shell.execute_reply": "2021-03-02T22:27:29.283049Z"
    },
    "papermill": {
     "duration": 0.726997,
     "end_time": "2021-03-02T22:27:29.283207",
     "exception": false,
     "start_time": "2021-03-02T22:27:28.556210",
     "status": "completed"
    },
    "tags": []
   },
   "outputs": [
    {
     "data": {
      "image/png": "[encoded data removed]",
      "text/plain": [
       "<Figure size 576x360 with 1 Axes>"
      ]
     },
     "metadata": {},
     "output_type": "display_data"
    },
    {
     "data": {
      "image/png": "[encoded data removed]",
      "text/plain": [
       "<Figure size 576x360 with 1 Axes>"
      ]
     },
     "metadata": {},
     "output_type": "display_data"
    },
    {
     "data": {
      "image/png": "[encoded data removed]",
      "text/plain": [
       "<Figure size 576x360 with 1 Axes>"
      ]
     },
     "metadata": {},
     "output_type": "display_data"
    },
    {
     "data": {
      "image/png": "[encoded data removed]",
      "text/plain": [
       "<Figure size 576x360 with 1 Axes>"
      ]
     },
     "metadata": {},
     "output_type": "display_data"
    }
   ],
   "source": [
    "for col in ['Gender', 'SeniorCitizen', 'Partner', 'Dependents']:\n",
    "    plt.figure(figsize=(8,5))\n",
    "    sns.countplot(x=col, hue='Churn', data=df, palette=\"tab10\")\n",
    "    plt.show()"
   ]
  },
  {
   "cell_type": "markdown",
   "metadata": {
    "papermill": {
     "duration": 0.071448,
     "end_time": "2021-03-02T22:27:29.426983",
     "exception": false,
     "start_time": "2021-03-02T22:27:29.355535",
     "status": "completed"
    },
    "tags": []
   },
   "source": [
    "(4) PhoneService: PhoneService is a **redundant feature** since we can get the same information from the feature Multiple Lines. So, we could drop this column.\n",
    "\n",
    "(5) MultipleLines: Customer who has multiple lines is slightly more likely to churn."
   ]
  },
  {
   "cell_type": "code",
   "execution_count": 16,
   "metadata": {
    "execution": {
     "iopub.execute_input": "2021-03-02T22:27:29.572963Z",
     "iopub.status.busy": "2021-03-02T22:27:29.571946Z",
     "iopub.status.idle": "2021-03-02T22:27:29.891250Z",
     "shell.execute_reply": "2021-03-02T22:27:29.891789Z"
    },
    "papermill": {
     "duration": 0.393793,
     "end_time": "2021-03-02T22:27:29.891954",
     "exception": false,
     "start_time": "2021-03-02T22:27:29.498161",
     "status": "completed"
    },
    "tags": []
   },
   "outputs": [
    {
     "data": {
      "image/png": "[encoded data removed]",
      "text/plain": [
       "<Figure size 576x360 with 1 Axes>"
      ]
     },
     "metadata": {},
     "output_type": "display_data"
    },
    {
     "data": {
      "image/png": "[encoded data removed]",
      "text/plain": [
       "<Figure size 576x360 with 1 Axes>"
      ]
     },
     "metadata": {},
     "output_type": "display_data"
    }
   ],
   "source": [
    "for col in ['PhoneService', 'MultipleLines']:\n",
    "    plt.figure(figsize=(8,5))\n",
    "    sns.countplot(x=col, hue='Churn', data=df, palette=\"tab10\")\n",
    "    plt.show()"
   ]
  },
  {
   "cell_type": "markdown",
   "metadata": {
    "papermill": {
     "duration": 0.072598,
     "end_time": "2021-03-02T22:27:30.037999",
     "exception": false,
     "start_time": "2021-03-02T22:27:29.965401",
     "status": "completed"
    },
    "tags": []
   },
   "source": [
    "(6) InternetService: If customer's internet service provider is fiber optic, then he/she is more likely to churn.\n",
    "\n",
    "(7) OnlineSecurity: Customer who does not have online security is more likely to churn.\n",
    "\n",
    "(8) OnlineBackup: Customer who does not have online backup is more likely to churn.\n",
    "\n",
    "(9) DeviceProtection: Customer who does not have device protection is more likely to churn.\n",
    "\n",
    "(10) TechSupport: Customer who does not have tech support is more likely to churn.\n",
    "\n",
    "(11) StreamingTV / StreamingMovies: StreamingTV and StreamingMovies have no big effect on churn rate; however, if customer does not have internet service, then he/she is less likely to churn."
   ]
  },
  {
   "cell_type": "code",
   "execution_count": 17,
   "metadata": {
    "execution": {
     "iopub.execute_input": "2021-03-02T22:27:30.190405Z",
     "iopub.status.busy": "2021-03-02T22:27:30.189457Z",
     "iopub.status.idle": "2021-03-02T22:27:31.527399Z",
     "shell.execute_reply": "2021-03-02T22:27:31.526850Z"
    },
    "papermill": {
     "duration": 1.416663,
     "end_time": "2021-03-02T22:27:31.527520",
     "exception": false,
     "start_time": "2021-03-02T22:27:30.110857",
     "status": "completed"
    },
    "tags": []
   },
   "outputs": [
    {
     "data": {
      "image/png": "[encoded data removed]",
      "text/plain": [
       "<Figure size 576x360 with 1 Axes>"
      ]
     },
     "metadata": {},
     "output_type": "display_data"
    },
    {
     "data": {
      "image/png": "[encoded data removed]",
      "text/plain": [
       "<Figure size 576x360 with 1 Axes>"
      ]
     },
     "metadata": {},
     "output_type": "display_data"
    },
    {
     "data": {
      "image/png": "[encoded data removed]",
      "text/plain": [
       "<Figure size 576x360 with 1 Axes>"
      ]
     },
     "metadata": {},
     "output_type": "display_data"
    },
    {
     "data": {
      "image/png": "[encoded data removed]",
      "text/plain": [
       "<Figure size 576x360 with 1 Axes>"
      ]
     },
     "metadata": {},
     "output_type": "display_data"
    },
    {
     "data": {
      "image/png": "[encoded data removed]",
      "text/plain": [
       "<Figure size 576x360 with 1 Axes>"
      ]
     },
     "metadata": {},
     "output_type": "display_data"
    },
    {
     "data": {
      "image/png": "[encoded data removed]",
      "text/plain": [
       "<Figure size 576x360 with 1 Axes>"
      ]
     },
     "metadata": {},
     "output_type": "display_data"
    },
    {
     "data": {
      "image/png": "[encoded data removed]",
      "text/plain": [
       "<Figure size 576x360 with 1 Axes>"
      ]
     },
     "metadata": {},
     "output_type": "display_data"
    }
   ],
   "source": [
    "for col in ['InternetService', 'OnlineSecurity', 'OnlineBackup', 'DeviceProtection', \n",
    "            'TechSupport','StreamingTV', 'StreamingMovies']:\n",
    "    plt.figure(figsize=(8,5))\n",
    "    sns.countplot(x=col, hue='Churn', data=df, palette=\"tab10\")\n",
    "    plt.show()"
   ]
  },
  {
   "cell_type": "markdown",
   "metadata": {
    "papermill": {
     "duration": 0.078061,
     "end_time": "2021-03-02T22:27:31.684333",
     "exception": false,
     "start_time": "2021-03-02T22:27:31.606272",
     "status": "completed"
    },
    "tags": []
   },
   "source": [
    "(12) PaperlessBilling: Customer who has paperless billing is more likely to churn.\n",
    "\n",
    "(13) PaymentMethod: Customer who uses electronic check to pay bills is more likely to churn than those who using other payment methods.\n",
    "\n",
    "(14) Contract: The churn rate goes down as the length of contract increases."
   ]
  },
  {
   "cell_type": "code",
   "execution_count": 18,
   "metadata": {
    "execution": {
     "iopub.execute_input": "2021-03-02T22:27:31.850436Z",
     "iopub.status.busy": "2021-03-02T22:27:31.848406Z",
     "iopub.status.idle": "2021-03-02T22:27:32.406481Z",
     "shell.execute_reply": "2021-03-02T22:27:32.405880Z"
    },
    "papermill": {
     "duration": 0.643933,
     "end_time": "2021-03-02T22:27:32.406616",
     "exception": false,
     "start_time": "2021-03-02T22:27:31.762683",
     "status": "completed"
    },
    "tags": []
   },
   "outputs": [
    {
     "data": {
      "image/png": "[encoded data removed]",
      "text/plain": [
       "<Figure size 576x360 with 1 Axes>"
      ]
     },
     "metadata": {},
     "output_type": "display_data"
    },
    {
     "data": {
      "image/png": "[encoded data removed]",
      "text/plain": [
       "<Figure size 576x360 with 1 Axes>"
      ]
     },
     "metadata": {},
     "output_type": "display_data"
    },
    {
     "data": {
      "image/png": "[encoded data removed]",
      "text/plain": [
       "<Figure size 576x360 with 1 Axes>"
      ]
     },
     "metadata": {},
     "output_type": "display_data"
    }
   ],
   "source": [
    "for col in ['PaperlessBilling', 'PaymentMethod', 'Contract']:\n",
    "    plt.figure(figsize=(8,5))\n",
    "    sns.countplot(x=col, hue='Churn', data=df, palette=\"tab10\")\n",
    "    plt.show()"
   ]
  },
  {
   "cell_type": "markdown",
   "metadata": {
    "papermill": {
     "duration": 0.098397,
     "end_time": "2021-03-02T22:27:32.602868",
     "exception": false,
     "start_time": "2021-03-02T22:27:32.504471",
     "status": "completed"
    },
    "tags": []
   },
   "source": [
    "# Data Preprocessing"
   ]
  },
  {
   "cell_type": "markdown",
   "metadata": {
    "papermill": {
     "duration": 0.094618,
     "end_time": "2021-03-02T22:27:32.796412",
     "exception": false,
     "start_time": "2021-03-02T22:27:32.701794",
     "status": "completed"
    },
    "tags": []
   },
   "source": [
    "### 1. Removing Duplicates\n",
    "There is no repeated value in this data set."
   ]
  },
  {
   "cell_type": "code",
   "execution_count": 19,
   "metadata": {
    "execution": {
     "iopub.execute_input": "2021-03-02T22:27:33.025953Z",
     "iopub.status.busy": "2021-03-02T22:27:33.025279Z",
     "iopub.status.idle": "2021-03-02T22:27:33.032218Z",
     "shell.execute_reply": "2021-03-02T22:27:33.031658Z"
    },
    "papermill": {
     "duration": 0.094604,
     "end_time": "2021-03-02T22:27:33.032327",
     "exception": false,
     "start_time": "2021-03-02T22:27:32.937723",
     "status": "completed"
    },
    "tags": []
   },
   "outputs": [
    {
     "data": {
      "text/plain": [
       "0"
      ]
     },
     "execution_count": 19,
     "metadata": {},
     "output_type": "execute_result"
    }
   ],
   "source": [
    "# summarize duplicates\n",
    "sum(df.duplicated('customerID'))"
   ]
  },
  {
   "cell_type": "markdown",
   "metadata": {
    "papermill": {
     "duration": 0.081373,
     "end_time": "2021-03-02T22:27:33.195306",
     "exception": false,
     "start_time": "2021-03-02T22:27:33.113933",
     "status": "completed"
    },
    "tags": []
   },
   "source": [
    "### 2. Droping Unnecessary Columns\n",
    "\n",
    "Remove the useless feature customerID."
   ]
  },
  {
   "cell_type": "code",
   "execution_count": 20,
   "metadata": {
    "execution": {
     "iopub.execute_input": "2021-03-02T22:27:33.362237Z",
     "iopub.status.busy": "2021-03-02T22:27:33.361573Z",
     "iopub.status.idle": "2021-03-02T22:27:33.389699Z",
     "shell.execute_reply": "2021-03-02T22:27:33.390233Z"
    },
    "papermill": {
     "duration": 0.113346,
     "end_time": "2021-03-02T22:27:33.390375",
     "exception": false,
     "start_time": "2021-03-02T22:27:33.277029",
     "status": "completed"
    },
    "tags": []
   },
   "outputs": [
    {
     "data": {
      "text/html": [
       "<div>\n",
       "<style scoped>\n",
       "    .dataframe tbody tr th:only-of-type {\n",
       "        vertical-align: middle;\n",
       "    }\n",
       "\n",
       "    .dataframe tbody tr th {\n",
       "        vertical-align: top;\n",
       "    }\n",
       "\n",
       "    .dataframe thead th {\n",
       "        text-align: right;\n",
       "    }\n",
       "</style>\n",
       "<table border=\"1\" class=\"dataframe\">\n",
       "  <thead>\n",
       "    <tr style=\"text-align: right;\">\n",
       "      <th></th>\n",
       "      <th>Gender</th>\n",
       "      <th>SeniorCitizen</th>\n",
       "      <th>Partner</th>\n",
       "      <th>Dependents</th>\n",
       "      <th>Tenure</th>\n",
       "      <th>PhoneService</th>\n",
       "      <th>MultipleLines</th>\n",
       "      <th>InternetService</th>\n",
       "      <th>OnlineSecurity</th>\n",
       "      <th>OnlineBackup</th>\n",
       "      <th>DeviceProtection</th>\n",
       "      <th>TechSupport</th>\n",
       "      <th>StreamingTV</th>\n",
       "      <th>StreamingMovies</th>\n",
       "      <th>Contract</th>\n",
       "      <th>PaperlessBilling</th>\n",
       "      <th>PaymentMethod</th>\n",
       "      <th>MonthlyCharges</th>\n",
       "      <th>TotalCharges</th>\n",
       "      <th>Churn</th>\n",
       "    </tr>\n",
       "  </thead>\n",
       "  <tbody>\n",
       "    <tr>\n",
       "      <th>0</th>\n",
       "      <td>Female</td>\n",
       "      <td>0</td>\n",
       "      <td>Yes</td>\n",
       "      <td>No</td>\n",
       "      <td>1</td>\n",
       "      <td>No</td>\n",
       "      <td>No</td>\n",
       "      <td>DSL</td>\n",
       "      <td>No</td>\n",
       "      <td>Yes</td>\n",
       "      <td>No</td>\n",
       "      <td>No</td>\n",
       "      <td>No</td>\n",
       "      <td>No</td>\n",
       "      <td>Month-to-month</td>\n",
       "      <td>Yes</td>\n",
       "      <td>Electronic check</td>\n",
       "      <td>29.85</td>\n",
       "      <td>29.850000</td>\n",
       "      <td>No</td>\n",
       "    </tr>\n",
       "    <tr>\n",
       "      <th>1</th>\n",
       "      <td>Male</td>\n",
       "      <td>0</td>\n",
       "      <td>No</td>\n",
       "      <td>No</td>\n",
       "      <td>34</td>\n",
       "      <td>Yes</td>\n",
       "      <td>No</td>\n",
       "      <td>DSL</td>\n",
       "      <td>Yes</td>\n",
       "      <td>No</td>\n",
       "      <td>Yes</td>\n",
       "      <td>No</td>\n",
       "      <td>No</td>\n",
       "      <td>No</td>\n",
       "      <td>One year</td>\n",
       "      <td>No</td>\n",
       "      <td>Mailed check</td>\n",
       "      <td>56.95</td>\n",
       "      <td>1889.500000</td>\n",
       "      <td>No</td>\n",
       "    </tr>\n",
       "    <tr>\n",
       "      <th>2</th>\n",
       "      <td>Male</td>\n",
       "      <td>0</td>\n",
       "      <td>No</td>\n",
       "      <td>No</td>\n",
       "      <td>2</td>\n",
       "      <td>Yes</td>\n",
       "      <td>No</td>\n",
       "      <td>DSL</td>\n",
       "      <td>Yes</td>\n",
       "      <td>Yes</td>\n",
       "      <td>No</td>\n",
       "      <td>No</td>\n",
       "      <td>No</td>\n",
       "      <td>No</td>\n",
       "      <td>Month-to-month</td>\n",
       "      <td>Yes</td>\n",
       "      <td>Mailed check</td>\n",
       "      <td>53.85</td>\n",
       "      <td>108.150002</td>\n",
       "      <td>Yes</td>\n",
       "    </tr>\n",
       "    <tr>\n",
       "      <th>3</th>\n",
       "      <td>Male</td>\n",
       "      <td>0</td>\n",
       "      <td>No</td>\n",
       "      <td>No</td>\n",
       "      <td>45</td>\n",
       "      <td>No</td>\n",
       "      <td>No</td>\n",
       "      <td>DSL</td>\n",
       "      <td>Yes</td>\n",
       "      <td>No</td>\n",
       "      <td>Yes</td>\n",
       "      <td>Yes</td>\n",
       "      <td>No</td>\n",
       "      <td>No</td>\n",
       "      <td>One year</td>\n",
       "      <td>No</td>\n",
       "      <td>Bank transfer (automatic)</td>\n",
       "      <td>42.30</td>\n",
       "      <td>1840.750000</td>\n",
       "      <td>No</td>\n",
       "    </tr>\n",
       "    <tr>\n",
       "      <th>4</th>\n",
       "      <td>Female</td>\n",
       "      <td>0</td>\n",
       "      <td>No</td>\n",
       "      <td>No</td>\n",
       "      <td>2</td>\n",
       "      <td>Yes</td>\n",
       "      <td>No</td>\n",
       "      <td>Fiber optic</td>\n",
       "      <td>No</td>\n",
       "      <td>No</td>\n",
       "      <td>No</td>\n",
       "      <td>No</td>\n",
       "      <td>No</td>\n",
       "      <td>No</td>\n",
       "      <td>Month-to-month</td>\n",
       "      <td>Yes</td>\n",
       "      <td>Electronic check</td>\n",
       "      <td>70.70</td>\n",
       "      <td>151.649994</td>\n",
       "      <td>Yes</td>\n",
       "    </tr>\n",
       "  </tbody>\n",
       "</table>\n",
       "</div>"
      ],
      "text/plain": [
       "   Gender SeniorCitizen Partner Dependents  Tenure PhoneService MultipleLines  \\\n",
       "0  Female             0     Yes         No       1           No            No   \n",
       "1    Male             0      No         No      34          Yes            No   \n",
       "2    Male             0      No         No       2          Yes            No   \n",
       "3    Male             0      No         No      45           No            No   \n",
       "4  Female             0      No         No       2          Yes            No   \n",
       "\n",
       "  InternetService OnlineSecurity OnlineBackup DeviceProtection TechSupport  \\\n",
       "0             DSL             No          Yes               No          No   \n",
       "1             DSL            Yes           No              Yes          No   \n",
       "2             DSL            Yes          Yes               No          No   \n",
       "3             DSL            Yes           No              Yes         Yes   \n",
       "4     Fiber optic             No           No               No          No   \n",
       "\n",
       "  StreamingTV StreamingMovies        Contract PaperlessBilling  \\\n",
       "0          No              No  Month-to-month              Yes   \n",
       "1          No              No        One year               No   \n",
       "2          No              No  Month-to-month              Yes   \n",
       "3          No              No        One year               No   \n",
       "4          No              No  Month-to-month              Yes   \n",
       "\n",
       "               PaymentMethod  MonthlyCharges  TotalCharges Churn  \n",
       "0           Electronic check           29.85     29.850000    No  \n",
       "1               Mailed check           56.95   1889.500000    No  \n",
       "2               Mailed check           53.85    108.150002   Yes  \n",
       "3  Bank transfer (automatic)           42.30   1840.750000    No  \n",
       "4           Electronic check           70.70    151.649994   Yes  "
      ]
     },
     "execution_count": 20,
     "metadata": {},
     "output_type": "execute_result"
    }
   ],
   "source": [
    "# remove customerID\n",
    "df2 = df.drop(['customerID'], axis = 1)\n",
    "df2.head(5)"
   ]
  },
  {
   "cell_type": "markdown",
   "metadata": {
    "papermill": {
     "duration": 0.082572,
     "end_time": "2021-03-02T22:27:33.557292",
     "exception": false,
     "start_time": "2021-03-02T22:27:33.474720",
     "status": "completed"
    },
    "tags": []
   },
   "source": [
    "### 3. Categorical Data Encoding\n",
    "\n",
    "Encode categorical variables, we use One-Hot Encoding for nominal variables and Label Encoding for ordinal variables.\n",
    "\n",
    "* One-Hot Encoding: Gender, Partner, Dependents, MultipleLines, InternetService, OnlineSecurity, OnlineBackup, DeviceProtection, TechSupport, StreamingTV, StreamingMovies, PaperlessBilling, PaymentMethod, Churn\n",
    "\n",
    "* Label Encoding: Contract"
   ]
  },
  {
   "cell_type": "code",
   "execution_count": 21,
   "metadata": {
    "execution": {
     "iopub.execute_input": "2021-03-02T22:27:33.741052Z",
     "iopub.status.busy": "2021-03-02T22:27:33.740355Z",
     "iopub.status.idle": "2021-03-02T22:27:33.773099Z",
     "shell.execute_reply": "2021-03-02T22:27:33.771523Z"
    },
    "papermill": {
     "duration": 0.132871,
     "end_time": "2021-03-02T22:27:33.773257",
     "exception": false,
     "start_time": "2021-03-02T22:27:33.640386",
     "status": "completed"
    },
    "tags": []
   },
   "outputs": [],
   "source": [
    "# Dummy Variables(One-Hot Encoding)\n",
    "Gender = pd.get_dummies(df2['Gender'], prefix='Gender', drop_first=True)\n",
    "Partner = pd.get_dummies(df2['Partner'], prefix='Partner', drop_first=True)\n",
    "Dependents = pd.get_dummies(df2['Dependents'], prefix='Dependents', drop_first=True)\n",
    "MultipleLines = pd.get_dummies(df2['MultipleLines'], prefix='MultipleLines', drop_first=True)\n",
    "InternetService = pd.get_dummies(df2['InternetService'], prefix='InternetService', drop_first=True)\n",
    "OnlineSecurity = pd.get_dummies(df2['OnlineSecurity'], prefix='OnlineSecurity', drop_first=True)\n",
    "OnlineBackup = pd.get_dummies(df2['OnlineBackup'], prefix='OnlineBackup', drop_first=True)\n",
    "DeviceProtection = pd.get_dummies(df2['DeviceProtection'], prefix='DeviceProtection', drop_first=True)\n",
    "TechSupport = pd.get_dummies(df2['TechSupport'], prefix='TechSupport', drop_first=True)\n",
    "StreamingTV = pd.get_dummies(df2['StreamingTV'], prefix='StreamingTV', drop_first=True)\n",
    "StreamingMovies = pd.get_dummies(df2['StreamingMovies'], prefix='StreamingMovies', drop_first=True)\n",
    "PaperlessBilling = pd.get_dummies(df2['PaperlessBilling'], prefix='PaperlessBilling', drop_first=True)\n",
    "PaymentMethod = pd.get_dummies(df2['PaymentMethod'], prefix='PaymentMethod', drop_first=True)\n",
    "Churn = pd.get_dummies(df2['Churn'], prefix='Churn', drop_first=True)\n",
    "PaymentMethod = pd.get_dummies(df2['PhoneService'], prefix='PhoneService', drop_first=True)\n",
    "\n",
    "\n",
    "df3 = pd.concat([df2, Gender, Partner, Dependents, MultipleLines, InternetService, \n",
    "                 OnlineSecurity, OnlineBackup, DeviceProtection, TechSupport, StreamingTV, \n",
    "                 StreamingMovies, PaperlessBilling, PaymentMethod, Churn], axis=1)"
   ]
  },
  {
   "cell_type": "code",
   "execution_count": 22,
   "metadata": {
    "execution": {
     "iopub.execute_input": "2021-03-02T22:27:33.945180Z",
     "iopub.status.busy": "2021-03-02T22:27:33.944497Z",
     "iopub.status.idle": "2021-03-02T22:27:34.009613Z",
     "shell.execute_reply": "2021-03-02T22:27:34.008944Z"
    },
    "papermill": {
     "duration": 0.153256,
     "end_time": "2021-03-02T22:27:34.009740",
     "exception": false,
     "start_time": "2021-03-02T22:27:33.856484",
     "status": "completed"
    },
    "tags": []
   },
   "outputs": [],
   "source": [
    "# Label Encoding\n",
    "from sklearn import preprocessing\n",
    "label_encoder = preprocessing.LabelEncoder()\n",
    "df3['Contract']= label_encoder.fit_transform(df3['Contract']) "
   ]
  },
  {
   "cell_type": "code",
   "execution_count": 23,
   "metadata": {
    "execution": {
     "iopub.execute_input": "2021-03-02T22:27:34.183532Z",
     "iopub.status.busy": "2021-03-02T22:27:34.182942Z",
     "iopub.status.idle": "2021-03-02T22:27:34.207610Z",
     "shell.execute_reply": "2021-03-02T22:27:34.206981Z"
    },
    "papermill": {
     "duration": 0.114711,
     "end_time": "2021-03-02T22:27:34.207713",
     "exception": false,
     "start_time": "2021-03-02T22:27:34.093002",
     "status": "completed"
    },
    "tags": []
   },
   "outputs": [
    {
     "data": {
      "text/html": [
       "<div>\n",
       "<style scoped>\n",
       "    .dataframe tbody tr th:only-of-type {\n",
       "        vertical-align: middle;\n",
       "    }\n",
       "\n",
       "    .dataframe tbody tr th {\n",
       "        vertical-align: top;\n",
       "    }\n",
       "\n",
       "    .dataframe thead th {\n",
       "        text-align: right;\n",
       "    }\n",
       "</style>\n",
       "<table border=\"1\" class=\"dataframe\">\n",
       "  <thead>\n",
       "    <tr style=\"text-align: right;\">\n",
       "      <th></th>\n",
       "      <th>SeniorCitizen</th>\n",
       "      <th>Tenure</th>\n",
       "      <th>MonthlyCharges</th>\n",
       "      <th>TotalCharges</th>\n",
       "      <th>Gender_Male</th>\n",
       "      <th>Partner_Yes</th>\n",
       "      <th>Dependents_Yes</th>\n",
       "      <th>MultipleLines_Yes</th>\n",
       "      <th>InternetService_Fiber optic</th>\n",
       "      <th>InternetService_No</th>\n",
       "      <th>OnlineSecurity_Yes</th>\n",
       "      <th>OnlineBackup_Yes</th>\n",
       "      <th>DeviceProtection_Yes</th>\n",
       "      <th>TechSupport_Yes</th>\n",
       "      <th>StreamingTV_Yes</th>\n",
       "      <th>StreamingMovies_Yes</th>\n",
       "      <th>PaperlessBilling_Yes</th>\n",
       "      <th>PhoneService_Yes</th>\n",
       "      <th>Churn_Yes</th>\n",
       "    </tr>\n",
       "  </thead>\n",
       "  <tbody>\n",
       "    <tr>\n",
       "      <th>0</th>\n",
       "      <td>0</td>\n",
       "      <td>1</td>\n",
       "      <td>29.85</td>\n",
       "      <td>29.850000</td>\n",
       "      <td>0</td>\n",
       "      <td>1</td>\n",
       "      <td>0</td>\n",
       "      <td>0</td>\n",
       "      <td>0</td>\n",
       "      <td>0</td>\n",
       "      <td>0</td>\n",
       "      <td>1</td>\n",
       "      <td>0</td>\n",
       "      <td>0</td>\n",
       "      <td>0</td>\n",
       "      <td>0</td>\n",
       "      <td>1</td>\n",
       "      <td>0</td>\n",
       "      <td>0</td>\n",
       "    </tr>\n",
       "    <tr>\n",
       "      <th>1</th>\n",
       "      <td>0</td>\n",
       "      <td>34</td>\n",
       "      <td>56.95</td>\n",
       "      <td>1889.500000</td>\n",
       "      <td>1</td>\n",
       "      <td>0</td>\n",
       "      <td>0</td>\n",
       "      <td>0</td>\n",
       "      <td>0</td>\n",
       "      <td>0</td>\n",
       "      <td>1</td>\n",
       "      <td>0</td>\n",
       "      <td>1</td>\n",
       "      <td>0</td>\n",
       "      <td>0</td>\n",
       "      <td>0</td>\n",
       "      <td>0</td>\n",
       "      <td>1</td>\n",
       "      <td>0</td>\n",
       "    </tr>\n",
       "    <tr>\n",
       "      <th>2</th>\n",
       "      <td>0</td>\n",
       "      <td>2</td>\n",
       "      <td>53.85</td>\n",
       "      <td>108.150002</td>\n",
       "      <td>1</td>\n",
       "      <td>0</td>\n",
       "      <td>0</td>\n",
       "      <td>0</td>\n",
       "      <td>0</td>\n",
       "      <td>0</td>\n",
       "      <td>1</td>\n",
       "      <td>1</td>\n",
       "      <td>0</td>\n",
       "      <td>0</td>\n",
       "      <td>0</td>\n",
       "      <td>0</td>\n",
       "      <td>1</td>\n",
       "      <td>1</td>\n",
       "      <td>1</td>\n",
       "    </tr>\n",
       "    <tr>\n",
       "      <th>3</th>\n",
       "      <td>0</td>\n",
       "      <td>45</td>\n",
       "      <td>42.30</td>\n",
       "      <td>1840.750000</td>\n",
       "      <td>1</td>\n",
       "      <td>0</td>\n",
       "      <td>0</td>\n",
       "      <td>0</td>\n",
       "      <td>0</td>\n",
       "      <td>0</td>\n",
       "      <td>1</td>\n",
       "      <td>0</td>\n",
       "      <td>1</td>\n",
       "      <td>1</td>\n",
       "      <td>0</td>\n",
       "      <td>0</td>\n",
       "      <td>0</td>\n",
       "      <td>0</td>\n",
       "      <td>0</td>\n",
       "    </tr>\n",
       "    <tr>\n",
       "      <th>4</th>\n",
       "      <td>0</td>\n",
       "      <td>2</td>\n",
       "      <td>70.70</td>\n",
       "      <td>151.649994</td>\n",
       "      <td>0</td>\n",
       "      <td>0</td>\n",
       "      <td>0</td>\n",
       "      <td>0</td>\n",
       "      <td>1</td>\n",
       "      <td>0</td>\n",
       "      <td>0</td>\n",
       "      <td>0</td>\n",
       "      <td>0</td>\n",
       "      <td>0</td>\n",
       "      <td>0</td>\n",
       "      <td>0</td>\n",
       "      <td>1</td>\n",
       "      <td>1</td>\n",
       "      <td>1</td>\n",
       "    </tr>\n",
       "  </tbody>\n",
       "</table>\n",
       "</div>"
      ],
      "text/plain": [
       "  SeniorCitizen  Tenure  MonthlyCharges  TotalCharges  Gender_Male  \\\n",
       "0             0       1           29.85     29.850000            0   \n",
       "1             0      34           56.95   1889.500000            1   \n",
       "2             0       2           53.85    108.150002            1   \n",
       "3             0      45           42.30   1840.750000            1   \n",
       "4             0       2           70.70    151.649994            0   \n",
       "\n",
       "   Partner_Yes  Dependents_Yes  MultipleLines_Yes  \\\n",
       "0            1               0                  0   \n",
       "1            0               0                  0   \n",
       "2            0               0                  0   \n",
       "3            0               0                  0   \n",
       "4            0               0                  0   \n",
       "\n",
       "   InternetService_Fiber optic  InternetService_No  OnlineSecurity_Yes  \\\n",
       "0                            0                   0                   0   \n",
       "1                            0                   0                   1   \n",
       "2                            0                   0                   1   \n",
       "3                            0                   0                   1   \n",
       "4                            1                   0                   0   \n",
       "\n",
       "   OnlineBackup_Yes  DeviceProtection_Yes  TechSupport_Yes  StreamingTV_Yes  \\\n",
       "0                 1                     0                0                0   \n",
       "1                 0                     1                0                0   \n",
       "2                 1                     0                0                0   \n",
       "3                 0                     1                1                0   \n",
       "4                 0                     0                0                0   \n",
       "\n",
       "   StreamingMovies_Yes  PaperlessBilling_Yes  PhoneService_Yes  Churn_Yes  \n",
       "0                    0                     1                 0          0  \n",
       "1                    0                     0                 1          0  \n",
       "2                    0                     1                 1          1  \n",
       "3                    0                     0                 0          0  \n",
       "4                    0                     1                 1          1  "
      ]
     },
     "execution_count": 23,
     "metadata": {},
     "output_type": "execute_result"
    }
   ],
   "source": [
    "# drop original columns\n",
    "list = ['Gender', 'Partner', 'Dependents', 'MultipleLines', 'InternetService', 'OnlineSecurity', 'OnlineBackup', \n",
    "'DeviceProtection', 'TechSupport', 'StreamingTV', 'StreamingMovies', 'PaperlessBilling', \n",
    "'PaymentMethod', 'Churn', 'Contract', 'PhoneService']\n",
    "df3.drop(df3[list], axis=1, inplace=True)\n",
    "df3.head()"
   ]
  },
  {
   "cell_type": "markdown",
   "metadata": {
    "papermill": {
     "duration": 0.083797,
     "end_time": "2021-03-02T22:27:34.376427",
     "exception": false,
     "start_time": "2021-03-02T22:27:34.292630",
     "status": "completed"
    },
    "tags": []
   },
   "source": [
    "### 4. Splitting the Data into Training Set(70%) and Test Set(30%)\n",
    "We split the data in 70:30 ratio so that 70% of the data will be used for training the model while 30% will be used for testing the model."
   ]
  },
  {
   "cell_type": "code",
   "execution_count": 24,
   "metadata": {
    "execution": {
     "iopub.execute_input": "2021-03-02T22:27:34.549352Z",
     "iopub.status.busy": "2021-03-02T22:27:34.548620Z",
     "iopub.status.idle": "2021-03-02T22:27:34.609784Z",
     "shell.execute_reply": "2021-03-02T22:27:34.608975Z"
    },
    "papermill": {
     "duration": 0.150153,
     "end_time": "2021-03-02T22:27:34.609954",
     "exception": false,
     "start_time": "2021-03-02T22:27:34.459801",
     "status": "completed"
    },
    "tags": []
   },
   "outputs": [],
   "source": [
    "# train test split\n",
    "from sklearn.model_selection import train_test_split\n",
    "X_train, X_test, y_train, y_test = train_test_split(df3.drop('Churn_Yes', axis=1), \n",
    "                                                    df3['Churn_Yes'], test_size=0.3, random_state=101)"
   ]
  },
  {
   "cell_type": "code",
   "execution_count": 25,
   "metadata": {},
   "outputs": [
    {
     "data": {
      "text/plain": [
       "Index(['SeniorCitizen', 'Tenure', 'MonthlyCharges', 'TotalCharges',\n",
       "       'Gender_Male', 'Partner_Yes', 'Dependents_Yes', 'MultipleLines_Yes',\n",
       "       'InternetService_Fiber optic', 'InternetService_No',\n",
       "       'OnlineSecurity_Yes', 'OnlineBackup_Yes', 'DeviceProtection_Yes',\n",
       "       'TechSupport_Yes', 'StreamingTV_Yes', 'StreamingMovies_Yes',\n",
       "       'PaperlessBilling_Yes', 'PhoneService_Yes'],\n",
       "      dtype='object')"
      ]
     },
     "execution_count": 25,
     "metadata": {},
     "output_type": "execute_result"
    }
   ],
   "source": [
    "X_train.columns"
   ]
  },
  {
   "cell_type": "code",
   "execution_count": 26,
   "metadata": {
    "execution": {
     "iopub.execute_input": "2021-03-02T22:27:34.791894Z",
     "iopub.status.busy": "2021-03-02T22:27:34.790667Z",
     "iopub.status.idle": "2021-03-02T22:27:34.796737Z",
     "shell.execute_reply": "2021-03-02T22:27:34.797431Z"
    },
    "papermill": {
     "duration": 0.102017,
     "end_time": "2021-03-02T22:27:34.797591",
     "exception": false,
     "start_time": "2021-03-02T22:27:34.695574",
     "status": "completed"
    },
    "tags": []
   },
   "outputs": [
    {
     "name": "stdout",
     "output_type": "stream",
     "text": [
      "RangeIndex(start=0, stop=4930, step=1)\n",
      "RangeIndex(start=0, stop=2113, step=1)\n",
      "RangeIndex(start=0, stop=4930, step=1)\n",
      "RangeIndex(start=0, stop=2113, step=1)\n"
     ]
    }
   ],
   "source": [
    "# check\n",
    "for i in [X_train, X_test, y_train, y_test]:\n",
    "    i.index = range(i.shape[0]) \n",
    "    print(i.index)"
   ]
  },
  {
   "cell_type": "markdown",
   "metadata": {
    "papermill": {
     "duration": 0.083898,
     "end_time": "2021-03-02T22:27:34.965774",
     "exception": false,
     "start_time": "2021-03-02T22:27:34.881876",
     "status": "completed"
    },
    "tags": []
   },
   "source": [
    "### 5. Identifying Missing Values\n",
    "\n",
    "For training set, the feature TotalCharges has **null/missing values**, so we can impute the missing values and replace them with average."
   ]
  },
  {
   "cell_type": "code",
   "execution_count": 27,
   "metadata": {
    "execution": {
     "iopub.execute_input": "2021-03-02T22:27:35.140450Z",
     "iopub.status.busy": "2021-03-02T22:27:35.139454Z",
     "iopub.status.idle": "2021-03-02T22:27:35.147132Z",
     "shell.execute_reply": "2021-03-02T22:27:35.146496Z"
    },
    "papermill": {
     "duration": 0.097254,
     "end_time": "2021-03-02T22:27:35.147244",
     "exception": false,
     "start_time": "2021-03-02T22:27:35.049990",
     "status": "completed"
    },
    "tags": []
   },
   "outputs": [
    {
     "data": {
      "text/plain": [
       "SeniorCitizen                  0\n",
       "Tenure                         0\n",
       "MonthlyCharges                 0\n",
       "TotalCharges                   9\n",
       "Gender_Male                    0\n",
       "Partner_Yes                    0\n",
       "Dependents_Yes                 0\n",
       "MultipleLines_Yes              0\n",
       "InternetService_Fiber optic    0\n",
       "InternetService_No             0\n",
       "OnlineSecurity_Yes             0\n",
       "OnlineBackup_Yes               0\n",
       "DeviceProtection_Yes           0\n",
       "TechSupport_Yes                0\n",
       "StreamingTV_Yes                0\n",
       "StreamingMovies_Yes            0\n",
       "PaperlessBilling_Yes           0\n",
       "PhoneService_Yes               0\n",
       "dtype: int64"
      ]
     },
     "execution_count": 27,
     "metadata": {},
     "output_type": "execute_result"
    }
   ],
   "source": [
    "# summarize missing values -> X_train\n",
    "X_train.isnull().sum()"
   ]
  },
  {
   "cell_type": "code",
   "execution_count": 28,
   "metadata": {
    "execution": {
     "iopub.execute_input": "2021-03-02T22:27:35.326072Z",
     "iopub.status.busy": "2021-03-02T22:27:35.325085Z",
     "iopub.status.idle": "2021-03-02T22:27:35.332105Z",
     "shell.execute_reply": "2021-03-02T22:27:35.332554Z"
    },
    "papermill": {
     "duration": 0.100666,
     "end_time": "2021-03-02T22:27:35.332697",
     "exception": false,
     "start_time": "2021-03-02T22:27:35.232031",
     "status": "completed"
    },
    "tags": []
   },
   "outputs": [
    {
     "data": {
      "text/plain": [
       "SeniorCitizen                  0\n",
       "Tenure                         0\n",
       "MonthlyCharges                 0\n",
       "TotalCharges                   0\n",
       "Gender_Male                    0\n",
       "Partner_Yes                    0\n",
       "Dependents_Yes                 0\n",
       "MultipleLines_Yes              0\n",
       "InternetService_Fiber optic    0\n",
       "InternetService_No             0\n",
       "OnlineSecurity_Yes             0\n",
       "OnlineBackup_Yes               0\n",
       "DeviceProtection_Yes           0\n",
       "TechSupport_Yes                0\n",
       "StreamingTV_Yes                0\n",
       "StreamingMovies_Yes            0\n",
       "PaperlessBilling_Yes           0\n",
       "PhoneService_Yes               0\n",
       "dtype: int64"
      ]
     },
     "execution_count": 28,
     "metadata": {},
     "output_type": "execute_result"
    }
   ],
   "source": [
    "# fill missing value with mean \n",
    "X_train['TotalCharges'].fillna(value=X_train['TotalCharges'].mean(), inplace=True)\n",
    "\n",
    "# check missing values\n",
    "X_train.isnull().sum()"
   ]
  },
  {
   "cell_type": "code",
   "execution_count": 29,
   "metadata": {
    "execution": {
     "iopub.execute_input": "2021-03-02T22:27:35.509227Z",
     "iopub.status.busy": "2021-03-02T22:27:35.508367Z",
     "iopub.status.idle": "2021-03-02T22:27:35.512557Z",
     "shell.execute_reply": "2021-03-02T22:27:35.511969Z"
    },
    "papermill": {
     "duration": 0.094633,
     "end_time": "2021-03-02T22:27:35.512663",
     "exception": false,
     "start_time": "2021-03-02T22:27:35.418030",
     "status": "completed"
    },
    "tags": []
   },
   "outputs": [
    {
     "data": {
      "text/plain": [
       "0"
      ]
     },
     "execution_count": 29,
     "metadata": {},
     "output_type": "execute_result"
    }
   ],
   "source": [
    "# summarize missing values -> y_train\n",
    "y_train.isnull().sum()"
   ]
  },
  {
   "cell_type": "code",
   "execution_count": 30,
   "metadata": {
    "execution": {
     "iopub.execute_input": "2021-03-02T22:27:35.689657Z",
     "iopub.status.busy": "2021-03-02T22:27:35.689038Z",
     "iopub.status.idle": "2021-03-02T22:27:35.694958Z",
     "shell.execute_reply": "2021-03-02T22:27:35.694365Z"
    },
    "papermill": {
     "duration": 0.096701,
     "end_time": "2021-03-02T22:27:35.695109",
     "exception": false,
     "start_time": "2021-03-02T22:27:35.598408",
     "status": "completed"
    },
    "tags": []
   },
   "outputs": [
    {
     "data": {
      "text/plain": [
       "SeniorCitizen                  0\n",
       "Tenure                         0\n",
       "MonthlyCharges                 0\n",
       "TotalCharges                   2\n",
       "Gender_Male                    0\n",
       "Partner_Yes                    0\n",
       "Dependents_Yes                 0\n",
       "MultipleLines_Yes              0\n",
       "InternetService_Fiber optic    0\n",
       "InternetService_No             0\n",
       "OnlineSecurity_Yes             0\n",
       "OnlineBackup_Yes               0\n",
       "DeviceProtection_Yes           0\n",
       "TechSupport_Yes                0\n",
       "StreamingTV_Yes                0\n",
       "StreamingMovies_Yes            0\n",
       "PaperlessBilling_Yes           0\n",
       "PhoneService_Yes               0\n",
       "dtype: int64"
      ]
     },
     "execution_count": 30,
     "metadata": {},
     "output_type": "execute_result"
    }
   ],
   "source": [
    "# summarize missing values -> X_test\n",
    "X_test.isnull().sum()"
   ]
  },
  {
   "cell_type": "code",
   "execution_count": 31,
   "metadata": {
    "execution": {
     "iopub.execute_input": "2021-03-02T22:27:35.877905Z",
     "iopub.status.busy": "2021-03-02T22:27:35.877211Z",
     "iopub.status.idle": "2021-03-02T22:27:35.883470Z",
     "shell.execute_reply": "2021-03-02T22:27:35.884040Z"
    },
    "papermill": {
     "duration": 0.101437,
     "end_time": "2021-03-02T22:27:35.884181",
     "exception": false,
     "start_time": "2021-03-02T22:27:35.782744",
     "status": "completed"
    },
    "tags": []
   },
   "outputs": [
    {
     "data": {
      "text/plain": [
       "SeniorCitizen                  0\n",
       "Tenure                         0\n",
       "MonthlyCharges                 0\n",
       "TotalCharges                   0\n",
       "Gender_Male                    0\n",
       "Partner_Yes                    0\n",
       "Dependents_Yes                 0\n",
       "MultipleLines_Yes              0\n",
       "InternetService_Fiber optic    0\n",
       "InternetService_No             0\n",
       "OnlineSecurity_Yes             0\n",
       "OnlineBackup_Yes               0\n",
       "DeviceProtection_Yes           0\n",
       "TechSupport_Yes                0\n",
       "StreamingTV_Yes                0\n",
       "StreamingMovies_Yes            0\n",
       "PaperlessBilling_Yes           0\n",
       "PhoneService_Yes               0\n",
       "dtype: int64"
      ]
     },
     "execution_count": 31,
     "metadata": {},
     "output_type": "execute_result"
    }
   ],
   "source": [
    "# fill missing value with mean \n",
    "X_test['TotalCharges'].fillna(value=X_test['TotalCharges'].mean(), inplace=True)\n",
    "\n",
    "# check missing values\n",
    "X_test.isnull().sum()"
   ]
  },
  {
   "cell_type": "code",
   "execution_count": 32,
   "metadata": {
    "execution": {
     "iopub.execute_input": "2021-03-02T22:27:36.061630Z",
     "iopub.status.busy": "2021-03-02T22:27:36.060670Z",
     "iopub.status.idle": "2021-03-02T22:27:36.066476Z",
     "shell.execute_reply": "2021-03-02T22:27:36.066953Z"
    },
    "papermill": {
     "duration": 0.095868,
     "end_time": "2021-03-02T22:27:36.067097",
     "exception": false,
     "start_time": "2021-03-02T22:27:35.971229",
     "status": "completed"
    },
    "tags": []
   },
   "outputs": [
    {
     "data": {
      "text/plain": [
       "0"
      ]
     },
     "execution_count": 32,
     "metadata": {},
     "output_type": "execute_result"
    }
   ],
   "source": [
    "# summarize missing values -> y_test\n",
    "y_test.isnull().sum()"
   ]
  },
  {
   "cell_type": "markdown",
   "metadata": {
    "papermill": {
     "duration": 0.089577,
     "end_time": "2021-03-02T22:27:36.432142",
     "exception": false,
     "start_time": "2021-03-02T22:27:36.342565",
     "status": "completed"
    },
    "tags": []
   },
   "source": [
    "### 6. Identifying Outliers\n",
    "\n",
    "The training data set does not have outliers."
   ]
  },
  {
   "cell_type": "code",
   "execution_count": 33,
   "metadata": {
    "execution": {
     "iopub.execute_input": "2021-03-02T22:27:36.611929Z",
     "iopub.status.busy": "2021-03-02T22:27:36.610910Z",
     "iopub.status.idle": "2021-03-02T22:27:37.267430Z",
     "shell.execute_reply": "2021-03-02T22:27:37.267943Z"
    },
    "papermill": {
     "duration": 0.747663,
     "end_time": "2021-03-02T22:27:37.268081",
     "exception": false,
     "start_time": "2021-03-02T22:27:36.520418",
     "status": "completed"
    },
    "tags": []
   },
   "outputs": [
    {
     "data": {
      "image/png": "[encoded data removed]",
      "text/plain": [
       "<Figure size 576x216 with 1 Axes>"
      ]
     },
     "metadata": {},
     "output_type": "display_data"
    },
    {
     "data": {
      "image/png": "[encoded data removed]",
      "text/plain": [
       "<Figure size 576x216 with 1 Axes>"
      ]
     },
     "metadata": {},
     "output_type": "display_data"
    },
    {
     "data": {
      "image/png": "[encoded data removed]",
      "text/plain": [
       "<Figure size 576x216 with 1 Axes>"
      ]
     },
     "metadata": {},
     "output_type": "display_data"
    }
   ],
   "source": [
    "# check outliers\n",
    "for col in ['Tenure', 'MonthlyCharges', 'TotalCharges']:\n",
    "    fig = plt.figure(figsize=(8,3))\n",
    "    sns.boxplot(X_train[col])"
   ]
  },
  {
   "cell_type": "markdown",
   "metadata": {
    "papermill": {
     "duration": 0.08951,
     "end_time": "2021-03-02T22:27:37.448266",
     "exception": false,
     "start_time": "2021-03-02T22:27:37.358756",
     "status": "completed"
    },
    "tags": []
   },
   "source": [
    "### 7. Feature Scaling - Standardization / Normalization"
   ]
  },
  {
   "cell_type": "code",
   "execution_count": 34,
   "metadata": {
    "execution": {
     "iopub.execute_input": "2021-03-02T22:27:37.630469Z",
     "iopub.status.busy": "2021-03-02T22:27:37.629797Z",
     "iopub.status.idle": "2021-03-02T22:27:37.680334Z",
     "shell.execute_reply": "2021-03-02T22:27:37.680854Z"
    },
    "papermill": {
     "duration": 0.143453,
     "end_time": "2021-03-02T22:27:37.681030",
     "exception": false,
     "start_time": "2021-03-02T22:27:37.537577",
     "status": "completed"
    },
    "tags": []
   },
   "outputs": [],
   "source": [
    "# Standardization\n",
    "standard_scaler = preprocessing.StandardScaler().fit(X_train)\n",
    "X_train_standard = standard_scaler.transform(X_train)\n",
    "X_test_standard = standard_scaler.transform(X_test)"
   ]
  },
  {
   "cell_type": "code",
   "execution_count": 35,
   "metadata": {
    "execution": {
     "iopub.execute_input": "2021-03-02T22:27:37.868352Z",
     "iopub.status.busy": "2021-03-02T22:27:37.867656Z",
     "iopub.status.idle": "2021-03-02T22:27:37.916688Z",
     "shell.execute_reply": "2021-03-02T22:27:37.917292Z"
    },
    "papermill": {
     "duration": 0.14595,
     "end_time": "2021-03-02T22:27:37.917452",
     "exception": false,
     "start_time": "2021-03-02T22:27:37.771502",
     "status": "completed"
    },
    "tags": []
   },
   "outputs": [],
   "source": [
    "# Normalization\n",
    "minmax_scaler = preprocessing.MinMaxScaler().fit(X_train)\n",
    "X_train_minmax = minmax_scaler.transform(X_train)\n",
    "X_test_minmax = minmax_scaler.transform(X_test)"
   ]
  },
  {
   "cell_type": "markdown",
   "metadata": {
    "papermill": {
     "duration": 0.094616,
     "end_time": "2021-03-02T22:27:38.104337",
     "exception": false,
     "start_time": "2021-03-02T22:27:38.009721",
     "status": "completed"
    },
    "tags": []
   },
   "source": [
    "# Model Building & Evaluation"
   ]
  },
  {
   "cell_type": "markdown",
   "metadata": {
    "papermill": {
     "duration": 0.090069,
     "end_time": "2021-03-02T22:27:38.284733",
     "exception": false,
     "start_time": "2021-03-02T22:27:38.194664",
     "status": "completed"
    },
    "tags": []
   },
   "source": [
    "## 1. Logistic Regression "
   ]
  },
  {
   "cell_type": "markdown",
   "metadata": {
    "papermill": {
     "duration": 0.090521,
     "end_time": "2021-03-02T22:27:38.465912",
     "exception": false,
     "start_time": "2021-03-02T22:27:38.375391",
     "status": "completed"
    },
    "tags": []
   },
   "source": [
    "Since this is an imbalanced dataset, we decide to use weighted logistic regression."
   ]
  },
  {
   "cell_type": "code",
   "execution_count": 36,
   "metadata": {
    "execution": {
     "iopub.execute_input": "2021-03-02T22:27:38.649346Z",
     "iopub.status.busy": "2021-03-02T22:27:38.648648Z",
     "iopub.status.idle": "2021-03-02T22:27:38.762660Z",
     "shell.execute_reply": "2021-03-02T22:27:38.762134Z"
    },
    "papermill": {
     "duration": 0.206759,
     "end_time": "2021-03-02T22:27:38.762776",
     "exception": false,
     "start_time": "2021-03-02T22:27:38.556017",
     "status": "completed"
    },
    "tags": []
   },
   "outputs": [
    {
     "data": {
      "text/plain": [
       "LogisticRegression(class_weight='balanced', max_iter=1000, random_state=0)"
      ]
     },
     "execution_count": 36,
     "metadata": {},
     "output_type": "execute_result"
    }
   ],
   "source": [
    "# training \n",
    "from sklearn.linear_model import LogisticRegression\n",
    "lm = LogisticRegression(random_state=0, max_iter=1000, solver='lbfgs', class_weight='balanced')\n",
    "lm.fit(X_train_standard, y_train)"
   ]
  },
  {
   "cell_type": "code",
   "execution_count": 37,
   "metadata": {
    "execution": {
     "iopub.execute_input": "2021-03-02T22:27:39.015174Z",
     "iopub.status.busy": "2021-03-02T22:27:39.014370Z",
     "iopub.status.idle": "2021-03-02T22:27:39.018658Z",
     "shell.execute_reply": "2021-03-02T22:27:39.017983Z"
    },
    "papermill": {
     "duration": 0.12169,
     "end_time": "2021-03-02T22:27:39.018775",
     "exception": false,
     "start_time": "2021-03-02T22:27:38.897085",
     "status": "completed"
    },
    "tags": []
   },
   "outputs": [],
   "source": [
    "# predicting\n",
    "y_pred = lm.predict(X_test_standard)"
   ]
  },
  {
   "cell_type": "code",
   "execution_count": 38,
   "metadata": {
    "execution": {
     "iopub.execute_input": "2021-03-02T22:27:39.211368Z",
     "iopub.status.busy": "2021-03-02T22:27:39.210306Z",
     "iopub.status.idle": "2021-03-02T22:27:39.223150Z",
     "shell.execute_reply": "2021-03-02T22:27:39.224375Z"
    },
    "papermill": {
     "duration": 0.113135,
     "end_time": "2021-03-02T22:27:39.224761",
     "exception": false,
     "start_time": "2021-03-02T22:27:39.111626",
     "status": "completed"
    },
    "tags": []
   },
   "outputs": [
    {
     "name": "stdout",
     "output_type": "stream",
     "text": [
      "              precision    recall  f1-score   support\n",
      "\n",
      "           0       0.89      0.76      0.82      1546\n",
      "           1       0.53      0.75      0.62       567\n",
      "\n",
      "    accuracy                           0.75      2113\n",
      "   macro avg       0.71      0.75      0.72      2113\n",
      "weighted avg       0.79      0.75      0.76      2113\n",
      "\n"
     ]
    }
   ],
   "source": [
    "# evaluation\n",
    "from sklearn.metrics import classification_report \n",
    "print(classification_report(y_test, y_pred))"
   ]
  },
  {
   "cell_type": "code",
   "execution_count": 39,
   "metadata": {
    "execution": {
     "iopub.execute_input": "2021-03-02T22:27:39.416509Z",
     "iopub.status.busy": "2021-03-02T22:27:39.415466Z",
     "iopub.status.idle": "2021-03-02T22:27:39.426626Z",
     "shell.execute_reply": "2021-03-02T22:27:39.426097Z"
    },
    "papermill": {
     "duration": 0.1078,
     "end_time": "2021-03-02T22:27:39.426755",
     "exception": false,
     "start_time": "2021-03-02T22:27:39.318955",
     "status": "completed"
    },
    "tags": []
   },
   "outputs": [
    {
     "name": "stdout",
     "output_type": "stream",
     "text": [
      "[[1168  378]\n",
      " [ 142  425]]\n"
     ]
    }
   ],
   "source": [
    "# confusion_matrix\n",
    "from sklearn.metrics import confusion_matrix\n",
    "print(confusion_matrix(y_test, y_pred))"
   ]
  },
  {
   "cell_type": "code",
   "execution_count": 40,
   "metadata": {
    "execution": {
     "iopub.execute_input": "2021-03-02T22:27:39.614631Z",
     "iopub.status.busy": "2021-03-02T22:27:39.613935Z",
     "iopub.status.idle": "2021-03-02T22:27:40.344043Z",
     "shell.execute_reply": "2021-03-02T22:27:40.344594Z"
    },
    "papermill": {
     "duration": 0.825517,
     "end_time": "2021-03-02T22:27:40.344734",
     "exception": false,
     "start_time": "2021-03-02T22:27:39.519217",
     "status": "completed"
    },
    "tags": []
   },
   "outputs": [
    {
     "name": "stdout",
     "output_type": "stream",
     "text": [
      "accuracy f1_score precision recall auc_score\n",
      "-------- -------- --------- ------ ---------\n",
      "    0.75     0.62      0.53   0.75      0.84\n"
     ]
    }
   ],
   "source": [
    "# performance matrix\n",
    "from sklearn.metrics import accuracy_score, f1_score, precision_score ,recall_score, roc_auc_score\n",
    "accuracy = round(accuracy_score(y_test, y_pred), 2)\n",
    "f1_score = round(f1_score(y_test, y_pred), 2)\n",
    "precision = round(precision_score(y_test, y_pred), 2)\n",
    "recall = round(recall_score(y_test, y_pred), 2)\n",
    "y_prob_scores_test = lm.predict_proba(X_test_standard)[:,1]\n",
    "auc_score = round(roc_auc_score(y_test, y_prob_scores_test), 2)\n",
    "\n",
    "from astropy.table import Table\n",
    "dict1 = [{'accuracy': accuracy, 'f1_score': f1_score, 'precision': precision, 'recall': recall, 'auc_score': auc_score}]\n",
    "logis_matrix = Table(rows=dict1)\n",
    "print(logis_matrix)"
   ]
  },
  {
   "cell_type": "code",
   "execution_count": 41,
   "metadata": {
    "execution": {
     "iopub.execute_input": "2021-03-02T22:27:40.534063Z",
     "iopub.status.busy": "2021-03-02T22:27:40.533359Z",
     "iopub.status.idle": "2021-03-02T22:27:40.816620Z",
     "shell.execute_reply": "2021-03-02T22:27:40.817105Z"
    },
    "papermill": {
     "duration": 0.379483,
     "end_time": "2021-03-02T22:27:40.817259",
     "exception": false,
     "start_time": "2021-03-02T22:27:40.437776",
     "status": "completed"
    },
    "tags": []
   },
   "outputs": [
    {
     "data": {
      "text/plain": [
       "<sklearn.metrics._plot.roc_curve.RocCurveDisplay at 0x147f40edfd0>"
      ]
     },
     "execution_count": 41,
     "metadata": {},
     "output_type": "execute_result"
    },
    {
     "data": {
      "image/png": "[encoded data removed]",
      "text/plain": [
       "<Figure size 504x504 with 1 Axes>"
      ]
     },
     "metadata": {},
     "output_type": "display_data"
    }
   ],
   "source": [
    "# roc plot\n",
    "from sklearn.metrics import plot_roc_curve\n",
    "fig, ax = plt.subplots(figsize=(7,7))\n",
    "plot_roc_curve(lm, X_test_standard, y_test, ax=ax)"
   ]
  },
  {
   "cell_type": "markdown",
   "metadata": {
    "papermill": {
     "duration": 0.095253,
     "end_time": "2021-03-02T22:27:41.005878",
     "exception": false,
     "start_time": "2021-03-02T22:27:40.910625",
     "status": "completed"
    },
    "tags": []
   },
   "source": [
    "## 2. K Nearest Neighbors "
   ]
  },
  {
   "cell_type": "markdown",
   "metadata": {
    "papermill": {
     "duration": 0.093626,
     "end_time": "2021-03-02T22:27:41.194138",
     "exception": false,
     "start_time": "2021-03-02T22:27:41.100512",
     "status": "completed"
    },
    "tags": []
   },
   "source": [
    "#### Data Transformation: Normalization (Min-Max Scalar) "
   ]
  },
  {
   "cell_type": "code",
   "execution_count": 42,
   "metadata": {
    "execution": {
     "iopub.execute_input": "2021-03-02T22:27:41.386055Z",
     "iopub.status.busy": "2021-03-02T22:27:41.385394Z",
     "iopub.status.idle": "2021-03-02T22:27:41.730643Z",
     "shell.execute_reply": "2021-03-02T22:27:41.731204Z"
    },
    "papermill": {
     "duration": 0.443126,
     "end_time": "2021-03-02T22:27:41.731419",
     "exception": false,
     "start_time": "2021-03-02T22:27:41.288293",
     "status": "completed"
    },
    "tags": []
   },
   "outputs": [],
   "source": [
    "# training and predicting\n",
    "from sklearn.neighbors import KNeighborsClassifier\n",
    "knn = KNeighborsClassifier(n_neighbors=1)\n",
    "knn.fit(X_train_minmax, y_train)\n",
    "y_pred = knn.predict(X_test_minmax)"
   ]
  },
  {
   "cell_type": "code",
   "execution_count": 43,
   "metadata": {
    "execution": {
     "iopub.execute_input": "2021-03-02T22:27:41.925137Z",
     "iopub.status.busy": "2021-03-02T22:27:41.924437Z",
     "iopub.status.idle": "2021-03-02T22:27:41.935861Z",
     "shell.execute_reply": "2021-03-02T22:27:41.935127Z"
    },
    "papermill": {
     "duration": 0.110188,
     "end_time": "2021-03-02T22:27:41.936014",
     "exception": false,
     "start_time": "2021-03-02T22:27:41.825826",
     "status": "completed"
    },
    "tags": []
   },
   "outputs": [
    {
     "name": "stdout",
     "output_type": "stream",
     "text": [
      "              precision    recall  f1-score   support\n",
      "\n",
      "           0       0.80      0.83      0.82      1546\n",
      "           1       0.49      0.45      0.47       567\n",
      "\n",
      "    accuracy                           0.73      2113\n",
      "   macro avg       0.65      0.64      0.64      2113\n",
      "weighted avg       0.72      0.73      0.72      2113\n",
      "\n"
     ]
    }
   ],
   "source": [
    "# evaluation\n",
    "from sklearn.metrics import classification_report \n",
    "print(classification_report(y_test, y_pred))"
   ]
  },
  {
   "cell_type": "code",
   "execution_count": 44,
   "metadata": {
    "execution": {
     "iopub.execute_input": "2021-03-02T22:27:42.133729Z",
     "iopub.status.busy": "2021-03-02T22:27:42.133067Z",
     "iopub.status.idle": "2021-03-02T22:27:42.141065Z",
     "shell.execute_reply": "2021-03-02T22:27:42.140454Z"
    },
    "papermill": {
     "duration": 0.108673,
     "end_time": "2021-03-02T22:27:42.141181",
     "exception": false,
     "start_time": "2021-03-02T22:27:42.032508",
     "status": "completed"
    },
    "tags": []
   },
   "outputs": [
    {
     "name": "stdout",
     "output_type": "stream",
     "text": [
      "[[1282  264]\n",
      " [ 311  256]]\n"
     ]
    }
   ],
   "source": [
    "# confusion_matrix\n",
    "from sklearn.metrics import confusion_matrix\n",
    "print(confusion_matrix(y_test, y_pred))"
   ]
  },
  {
   "cell_type": "code",
   "execution_count": 45,
   "metadata": {
    "execution": {
     "iopub.execute_input": "2021-03-02T22:27:42.341524Z",
     "iopub.status.busy": "2021-03-02T22:27:42.340752Z",
     "iopub.status.idle": "2021-03-02T22:27:42.536562Z",
     "shell.execute_reply": "2021-03-02T22:27:42.537329Z"
    },
    "papermill": {
     "duration": 0.300417,
     "end_time": "2021-03-02T22:27:42.537532",
     "exception": false,
     "start_time": "2021-03-02T22:27:42.237115",
     "status": "completed"
    },
    "tags": []
   },
   "outputs": [
    {
     "name": "stdout",
     "output_type": "stream",
     "text": [
      "accuracy f1_score precision recall auc_score\n",
      "-------- -------- --------- ------ ---------\n",
      "    0.73     0.47      0.49   0.45      0.64\n"
     ]
    }
   ],
   "source": [
    "# performance matrix\n",
    "from sklearn.metrics import accuracy_score, f1_score, precision_score ,recall_score, roc_auc_score\n",
    "accuracy = round(accuracy_score(y_test, y_pred), 2)\n",
    "f1_score = round(f1_score(y_test, y_pred), 2)\n",
    "precision = round(precision_score(y_test, y_pred), 2)\n",
    "recall = round(recall_score(y_test, y_pred), 2)\n",
    "y_prob_scores_test = knn.predict_proba(X_test_minmax)[:,1]\n",
    "auc_score = round(roc_auc_score(y_test, y_prob_scores_test), 2)\n",
    "\n",
    "from astropy.table import Table\n",
    "dict2 = [{'accuracy': accuracy, 'f1_score': f1_score, 'precision': precision, 'recall': recall, 'auc_score': auc_score}]\n",
    "knn_matrix = Table(rows=dict2)\n",
    "print(knn_matrix)"
   ]
  },
  {
   "cell_type": "code",
   "execution_count": 46,
   "metadata": {
    "execution": {
     "iopub.execute_input": "2021-03-02T22:27:42.745636Z",
     "iopub.status.busy": "2021-03-02T22:27:42.743690Z",
     "iopub.status.idle": "2021-03-02T22:27:43.205204Z",
     "shell.execute_reply": "2021-03-02T22:27:43.204156Z"
    },
    "papermill": {
     "duration": 0.570065,
     "end_time": "2021-03-02T22:27:43.205337",
     "exception": false,
     "start_time": "2021-03-02T22:27:42.635272",
     "status": "completed"
    },
    "tags": []
   },
   "outputs": [
    {
     "data": {
      "text/plain": [
       "<sklearn.metrics._plot.roc_curve.RocCurveDisplay at 0x147f1f40730>"
      ]
     },
     "execution_count": 46,
     "metadata": {},
     "output_type": "execute_result"
    },
    {
     "data": {
      "image/png": "[encoded data removed]",
      "text/plain": [
       "<Figure size 504x504 with 1 Axes>"
      ]
     },
     "metadata": {},
     "output_type": "display_data"
    }
   ],
   "source": [
    "# roc plot\n",
    "from sklearn.metrics import plot_roc_curve\n",
    "fig, ax = plt.subplots(figsize=(7,7))\n",
    "plot_roc_curve(knn, X_test_minmax, y_test, ax=ax)"
   ]
  },
  {
   "cell_type": "markdown",
   "metadata": {
    "papermill": {
     "duration": 0.099242,
     "end_time": "2021-03-02T22:27:43.402749",
     "exception": false,
     "start_time": "2021-03-02T22:27:43.303507",
     "status": "completed"
    },
    "tags": []
   },
   "source": [
    "## 3. Decision Tree"
   ]
  },
  {
   "cell_type": "code",
   "execution_count": 47,
   "metadata": {
    "execution": {
     "iopub.execute_input": "2021-03-02T22:27:43.600103Z",
     "iopub.status.busy": "2021-03-02T22:27:43.599424Z",
     "iopub.status.idle": "2021-03-02T22:27:43.672909Z",
     "shell.execute_reply": "2021-03-02T22:27:43.672159Z"
    },
    "papermill": {
     "duration": 0.173386,
     "end_time": "2021-03-02T22:27:43.673068",
     "exception": false,
     "start_time": "2021-03-02T22:27:43.499682",
     "status": "completed"
    },
    "tags": []
   },
   "outputs": [],
   "source": [
    "# training and predicting\n",
    "from sklearn.tree import DecisionTreeClassifier\n",
    "tree = DecisionTreeClassifier(random_state=0, max_depth=5)\n",
    "tree.fit(X_train, y_train)\n",
    "y_pred = tree.predict(X_test)"
   ]
  },
  {
   "cell_type": "code",
   "execution_count": 48,
   "metadata": {
    "execution": {
     "iopub.execute_input": "2021-03-02T22:27:43.876256Z",
     "iopub.status.busy": "2021-03-02T22:27:43.874592Z",
     "iopub.status.idle": "2021-03-02T22:27:43.887877Z",
     "shell.execute_reply": "2021-03-02T22:27:43.888413Z"
    },
    "papermill": {
     "duration": 0.117475,
     "end_time": "2021-03-02T22:27:43.888557",
     "exception": false,
     "start_time": "2021-03-02T22:27:43.771082",
     "status": "completed"
    },
    "tags": []
   },
   "outputs": [
    {
     "name": "stdout",
     "output_type": "stream",
     "text": [
      "              precision    recall  f1-score   support\n",
      "\n",
      "           0       0.82      0.92      0.87      1546\n",
      "           1       0.68      0.44      0.54       567\n",
      "\n",
      "    accuracy                           0.79      2113\n",
      "   macro avg       0.75      0.68      0.70      2113\n",
      "weighted avg       0.78      0.79      0.78      2113\n",
      "\n"
     ]
    }
   ],
   "source": [
    "# evaluation\n",
    "from sklearn.metrics import classification_report \n",
    "print(classification_report(y_test, y_pred))"
   ]
  },
  {
   "cell_type": "code",
   "execution_count": 49,
   "metadata": {
    "execution": {
     "iopub.execute_input": "2021-03-02T22:27:44.088149Z",
     "iopub.status.busy": "2021-03-02T22:27:44.087343Z",
     "iopub.status.idle": "2021-03-02T22:27:44.095957Z",
     "shell.execute_reply": "2021-03-02T22:27:44.096697Z"
    },
    "papermill": {
     "duration": 0.109924,
     "end_time": "2021-03-02T22:27:44.096923",
     "exception": false,
     "start_time": "2021-03-02T22:27:43.986999",
     "status": "completed"
    },
    "tags": []
   },
   "outputs": [
    {
     "name": "stdout",
     "output_type": "stream",
     "text": [
      "[[1426  120]\n",
      " [ 315  252]]\n"
     ]
    }
   ],
   "source": [
    "# confusion_matrix\n",
    "from sklearn.metrics import confusion_matrix\n",
    "print(confusion_matrix(y_test, y_pred))"
   ]
  },
  {
   "cell_type": "code",
   "execution_count": 50,
   "metadata": {
    "execution": {
     "iopub.execute_input": "2021-03-02T22:27:44.301893Z",
     "iopub.status.busy": "2021-03-02T22:27:44.301170Z",
     "iopub.status.idle": "2021-03-02T22:27:44.328309Z",
     "shell.execute_reply": "2021-03-02T22:27:44.329063Z"
    },
    "papermill": {
     "duration": 0.131909,
     "end_time": "2021-03-02T22:27:44.329264",
     "exception": false,
     "start_time": "2021-03-02T22:27:44.197355",
     "status": "completed"
    },
    "tags": []
   },
   "outputs": [
    {
     "name": "stdout",
     "output_type": "stream",
     "text": [
      "accuracy f1_score precision recall auc_score\n",
      "-------- -------- --------- ------ ---------\n",
      "    0.79     0.54      0.68   0.44      0.82\n"
     ]
    }
   ],
   "source": [
    "# performance matrix\n",
    "from sklearn.metrics import accuracy_score, f1_score, precision_score ,recall_score, roc_auc_score\n",
    "accuracy = round(accuracy_score(y_test, y_pred), 2)\n",
    "f1_score = round(f1_score(y_test, y_pred), 2)\n",
    "precision = round(precision_score(y_test, y_pred), 2)\n",
    "recall = round(recall_score(y_test, y_pred), 2)\n",
    "y_prob_scores_test = tree.predict_proba(X_test)[:,1]\n",
    "auc_score = round(roc_auc_score(y_test, y_prob_scores_test), 2)\n",
    "\n",
    "from astropy.table import Table\n",
    "dict3 = [{'accuracy': accuracy, 'f1_score': f1_score, 'precision': precision, 'recall': recall, 'auc_score': auc_score}]\n",
    "tree_matrix = Table(rows=dict3)\n",
    "print(tree_matrix)"
   ]
  },
  {
   "cell_type": "code",
   "execution_count": 51,
   "metadata": {
    "execution": {
     "iopub.execute_input": "2021-03-02T22:27:44.549606Z",
     "iopub.status.busy": "2021-03-02T22:27:44.548725Z",
     "iopub.status.idle": "2021-03-02T22:27:44.831623Z",
     "shell.execute_reply": "2021-03-02T22:27:44.830917Z"
    },
    "papermill": {
     "duration": 0.400523,
     "end_time": "2021-03-02T22:27:44.831742",
     "exception": false,
     "start_time": "2021-03-02T22:27:44.431219",
     "status": "completed"
    },
    "tags": []
   },
   "outputs": [
    {
     "data": {
      "text/plain": [
       "<sklearn.metrics._plot.roc_curve.RocCurveDisplay at 0x147f20da550>"
      ]
     },
     "execution_count": 51,
     "metadata": {},
     "output_type": "execute_result"
    },
    {
     "data": {
      "image/png": "[encoded data removed]",
      "text/plain": [
       "<Figure size 504x504 with 1 Axes>"
      ]
     },
     "metadata": {},
     "output_type": "display_data"
    }
   ],
   "source": [
    "# roc plot\n",
    "from sklearn.metrics import plot_roc_curve\n",
    "fig, ax = plt.subplots(figsize=(7,7))\n",
    "plot_roc_curve(tree, X_test, y_test, ax=ax)"
   ]
  },
  {
   "cell_type": "code",
   "execution_count": 52,
   "metadata": {
    "execution": {
     "iopub.execute_input": "2021-03-02T22:27:45.762604Z",
     "iopub.status.busy": "2021-03-02T22:27:45.761667Z",
     "iopub.status.idle": "2021-03-02T22:27:46.059065Z",
     "shell.execute_reply": "2021-03-02T22:27:46.059906Z"
    },
    "papermill": {
     "duration": 0.409798,
     "end_time": "2021-03-02T22:27:46.060097",
     "exception": false,
     "start_time": "2021-03-02T22:27:45.650299",
     "status": "completed"
    },
    "tags": []
   },
   "outputs": [
    {
     "data": {
      "text/plain": [
       "<AxesSubplot:>"
      ]
     },
     "execution_count": 52,
     "metadata": {},
     "output_type": "execute_result"
    },
    {
     "data": {
      "image/png": "[encoded data removed]",
      "text/plain": [
       "<Figure size 432x288 with 1 Axes>"
      ]
     },
     "metadata": {},
     "output_type": "display_data"
    }
   ],
   "source": [
    "importances = tree.feature_importances_\n",
    "weights = pd.Series(importances, index = X_train.columns.values)\n",
    "weights.sort_values()[-10:].plot(kind = 'barh')"
   ]
  },
  {
   "cell_type": "markdown",
   "metadata": {
    "papermill": {
     "duration": 0.103569,
     "end_time": "2021-03-02T22:27:46.267741",
     "exception": false,
     "start_time": "2021-03-02T22:27:46.164172",
     "status": "completed"
    },
    "tags": []
   },
   "source": [
    "## 4. Random Forest"
   ]
  },
  {
   "cell_type": "code",
   "execution_count": 53,
   "metadata": {
    "execution": {
     "iopub.execute_input": "2021-03-02T22:27:46.480151Z",
     "iopub.status.busy": "2021-03-02T22:27:46.479441Z",
     "iopub.status.idle": "2021-03-02T22:27:47.223097Z",
     "shell.execute_reply": "2021-03-02T22:27:47.222364Z"
    },
    "papermill": {
     "duration": 0.85086,
     "end_time": "2021-03-02T22:27:47.223215",
     "exception": false,
     "start_time": "2021-03-02T22:27:46.372355",
     "status": "completed"
    },
    "tags": []
   },
   "outputs": [],
   "source": [
    "# training and predicting\n",
    "from sklearn.ensemble import RandomForestClassifier\n",
    "forest = RandomForestClassifier()\n",
    "forest.fit(X_train, y_train)\n",
    "y_pred = forest.predict(X_test)"
   ]
  },
  {
   "cell_type": "code",
   "execution_count": 54,
   "metadata": {
    "execution": {
     "iopub.execute_input": "2021-03-02T22:27:47.440524Z",
     "iopub.status.busy": "2021-03-02T22:27:47.439513Z",
     "iopub.status.idle": "2021-03-02T22:27:47.451900Z",
     "shell.execute_reply": "2021-03-02T22:27:47.451316Z"
    },
    "papermill": {
     "duration": 0.124051,
     "end_time": "2021-03-02T22:27:47.452014",
     "exception": false,
     "start_time": "2021-03-02T22:27:47.327963",
     "status": "completed"
    },
    "tags": []
   },
   "outputs": [
    {
     "name": "stdout",
     "output_type": "stream",
     "text": [
      "              precision    recall  f1-score   support\n",
      "\n",
      "           0       0.82      0.91      0.86      1546\n",
      "           1       0.64      0.44      0.52       567\n",
      "\n",
      "    accuracy                           0.78      2113\n",
      "   macro avg       0.73      0.68      0.69      2113\n",
      "weighted avg       0.77      0.78      0.77      2113\n",
      "\n"
     ]
    }
   ],
   "source": [
    "# evaluation\n",
    "from sklearn.metrics import classification_report \n",
    "print(classification_report(y_test, y_pred))"
   ]
  },
  {
   "cell_type": "code",
   "execution_count": 55,
   "metadata": {
    "execution": {
     "iopub.execute_input": "2021-03-02T22:27:47.665265Z",
     "iopub.status.busy": "2021-03-02T22:27:47.664618Z",
     "iopub.status.idle": "2021-03-02T22:27:47.674929Z",
     "shell.execute_reply": "2021-03-02T22:27:47.674139Z"
    },
    "papermill": {
     "duration": 0.119319,
     "end_time": "2021-03-02T22:27:47.675093",
     "exception": false,
     "start_time": "2021-03-02T22:27:47.555774",
     "status": "completed"
    },
    "tags": []
   },
   "outputs": [
    {
     "name": "stdout",
     "output_type": "stream",
     "text": [
      "[[1408  138]\n",
      " [ 317  250]]\n"
     ]
    }
   ],
   "source": [
    "# confusion_matrix\n",
    "from sklearn.metrics import confusion_matrix\n",
    "print(confusion_matrix(y_test, y_pred))"
   ]
  },
  {
   "cell_type": "code",
   "execution_count": 56,
   "metadata": {
    "execution": {
     "iopub.execute_input": "2021-03-02T22:27:47.895682Z",
     "iopub.status.busy": "2021-03-02T22:27:47.894966Z",
     "iopub.status.idle": "2021-03-02T22:27:47.964388Z",
     "shell.execute_reply": "2021-03-02T22:27:47.963721Z"
    },
    "papermill": {
     "duration": 0.183473,
     "end_time": "2021-03-02T22:27:47.964494",
     "exception": false,
     "start_time": "2021-03-02T22:27:47.781021",
     "status": "completed"
    },
    "tags": []
   },
   "outputs": [
    {
     "name": "stdout",
     "output_type": "stream",
     "text": [
      "accuracy f1_score precision recall auc_score\n",
      "-------- -------- --------- ------ ---------\n",
      "    0.78     0.52      0.64   0.44      0.81\n"
     ]
    }
   ],
   "source": [
    "# performance matrix\n",
    "from sklearn.metrics import accuracy_score, f1_score, precision_score ,recall_score, roc_auc_score\n",
    "accuracy = round(accuracy_score(y_test, y_pred), 2)\n",
    "f1_score = round(f1_score(y_test, y_pred), 2)\n",
    "precision = round(precision_score(y_test, y_pred), 2)\n",
    "recall = round(recall_score(y_test, y_pred), 2)\n",
    "y_prob_scores_test = forest.predict_proba(X_test)[:,1]\n",
    "auc_score = round(roc_auc_score(y_test, y_prob_scores_test), 2)\n",
    "\n",
    "from astropy.table import Table\n",
    "dict4 = [{'accuracy': accuracy, 'f1_score': f1_score, 'precision': precision, 'recall': recall, 'auc_score': auc_score}]\n",
    "forest_matrix = Table(rows=dict4)\n",
    "print(forest_matrix)"
   ]
  },
  {
   "cell_type": "code",
   "execution_count": 57,
   "metadata": {
    "execution": {
     "iopub.execute_input": "2021-03-02T22:27:48.186868Z",
     "iopub.status.busy": "2021-03-02T22:27:48.185257Z",
     "iopub.status.idle": "2021-03-02T22:27:48.511472Z",
     "shell.execute_reply": "2021-03-02T22:27:48.511946Z"
    },
    "papermill": {
     "duration": 0.44278,
     "end_time": "2021-03-02T22:27:48.512092",
     "exception": false,
     "start_time": "2021-03-02T22:27:48.069312",
     "status": "completed"
    },
    "tags": []
   },
   "outputs": [
    {
     "data": {
      "text/plain": [
       "<sklearn.metrics._plot.roc_curve.RocCurveDisplay at 0x147f443d040>"
      ]
     },
     "execution_count": 57,
     "metadata": {},
     "output_type": "execute_result"
    },
    {
     "data": {
      "image/png": "[encoded data removed]",
      "text/plain": [
       "<Figure size 504x504 with 1 Axes>"
      ]
     },
     "metadata": {},
     "output_type": "display_data"
    }
   ],
   "source": [
    "# roc plot\n",
    "from sklearn.metrics import plot_roc_curve\n",
    "fig, ax = plt.subplots(figsize=(7,7))\n",
    "plot_roc_curve(forest, X_test, y_test, ax=ax)"
   ]
  },
  {
   "cell_type": "code",
   "execution_count": 58,
   "metadata": {
    "execution": {
     "iopub.execute_input": "2021-03-02T22:27:48.736823Z",
     "iopub.status.busy": "2021-03-02T22:27:48.736127Z",
     "iopub.status.idle": "2021-03-02T22:27:49.014482Z",
     "shell.execute_reply": "2021-03-02T22:27:49.013928Z"
    },
    "papermill": {
     "duration": 0.39458,
     "end_time": "2021-03-02T22:27:49.014590",
     "exception": false,
     "start_time": "2021-03-02T22:27:48.620010",
     "status": "completed"
    },
    "tags": []
   },
   "outputs": [
    {
     "data": {
      "text/plain": [
       "<AxesSubplot:>"
      ]
     },
     "execution_count": 58,
     "metadata": {},
     "output_type": "execute_result"
    },
    {
     "data": {
      "image/png": "[encoded data removed]",
      "text/plain": [
       "<Figure size 432x288 with 1 Axes>"
      ]
     },
     "metadata": {},
     "output_type": "display_data"
    }
   ],
   "source": [
    "importances = forest.feature_importances_\n",
    "weights = pd.Series(importances,index = X_train.columns.values)\n",
    "weights.sort_values()[-10:].plot(kind = 'barh')"
   ]
  },
  {
   "cell_type": "markdown",
   "metadata": {},
   "source": [
    "## 5. AdaBoost"
   ]
  },
  {
   "cell_type": "code",
   "execution_count": 59,
   "metadata": {},
   "outputs": [],
   "source": [
    "from sklearn.ensemble import AdaBoostClassifier\n",
    "adaboost = AdaBoostClassifier()\n",
    "adaboost.fit(X_train, y_train)\n",
    "y_pred = adaboost.predict(X_test)"
   ]
  },
  {
   "cell_type": "code",
   "execution_count": 60,
   "metadata": {},
   "outputs": [
    {
     "name": "stdout",
     "output_type": "stream",
     "text": [
      "              precision    recall  f1-score   support\n",
      "\n",
      "           0       0.83      0.91      0.87      1546\n",
      "           1       0.68      0.51      0.58       567\n",
      "\n",
      "    accuracy                           0.80      2113\n",
      "   macro avg       0.76      0.71      0.73      2113\n",
      "weighted avg       0.79      0.80      0.79      2113\n",
      "\n"
     ]
    }
   ],
   "source": [
    "print(classification_report(y_test, y_pred))"
   ]
  },
  {
   "cell_type": "code",
   "execution_count": 61,
   "metadata": {},
   "outputs": [
    {
     "name": "stdout",
     "output_type": "stream",
     "text": [
      "[[1409  137]\n",
      " [ 280  287]]\n"
     ]
    }
   ],
   "source": [
    "# confusion_matrix\n",
    "print(confusion_matrix(y_test, y_pred))"
   ]
  },
  {
   "cell_type": "code",
   "execution_count": 62,
   "metadata": {},
   "outputs": [
    {
     "name": "stdout",
     "output_type": "stream",
     "text": [
      "accuracy f1_score precision recall auc_score\n",
      "-------- -------- --------- ------ ---------\n",
      "     0.8     0.58      0.68   0.51      0.84\n"
     ]
    }
   ],
   "source": [
    "# performance matrix\n",
    "from sklearn.metrics import accuracy_score, f1_score, precision_score ,recall_score, roc_auc_score\n",
    "accuracy = round(accuracy_score(y_test, y_pred), 2)\n",
    "f1_score = round(f1_score(y_test, y_pred), 2)\n",
    "precision = round(precision_score(y_test, y_pred), 2)\n",
    "recall = round(recall_score(y_test, y_pred), 2)\n",
    "y_prob_scores_test = adaboost.predict_proba(X_test)[:,1]\n",
    "auc_score = round(roc_auc_score(y_test, y_prob_scores_test), 2)\n",
    "\n",
    "from astropy.table import Table\n",
    "dict4 = [{'accuracy': accuracy, 'f1_score': f1_score, 'precision': precision, 'recall': recall, 'auc_score': auc_score}]\n",
    "adaboost_matrix = Table(rows=dict4)\n",
    "print(adaboost_matrix)"
   ]
  },
  {
   "cell_type": "code",
   "execution_count": 63,
   "metadata": {},
   "outputs": [
    {
     "data": {
      "text/plain": [
       "<sklearn.metrics._plot.roc_curve.RocCurveDisplay at 0x147f55613d0>"
      ]
     },
     "execution_count": 63,
     "metadata": {},
     "output_type": "execute_result"
    },
    {
     "data": {
      "image/png": "[encoded data removed]",
      "text/plain": [
       "<Figure size 504x504 with 1 Axes>"
      ]
     },
     "metadata": {},
     "output_type": "display_data"
    }
   ],
   "source": [
    "# roc plot\n",
    "from sklearn.metrics import plot_roc_curve\n",
    "fig, ax = plt.subplots(figsize=(7,7))\n",
    "plot_roc_curve(adaboost, X_test, y_test, ax=ax)"
   ]
  },
  {
   "cell_type": "code",
   "execution_count": 64,
   "metadata": {},
   "outputs": [
    {
     "data": {
      "text/plain": [
       "<AxesSubplot:>"
      ]
     },
     "execution_count": 64,
     "metadata": {},
     "output_type": "execute_result"
    },
    {
     "data": {
      "image/png": "[encoded data removed]",
      "text/plain": [
       "<Figure size 432x288 with 1 Axes>"
      ]
     },
     "metadata": {},
     "output_type": "display_data"
    }
   ],
   "source": [
    "importances = adaboost.feature_importances_\n",
    "weights = pd.Series(importances, index = X_train.columns.values)\n",
    "weights.sort_values()[-10:].plot(kind = 'barh')"
   ]
  },
  {
   "cell_type": "markdown",
   "metadata": {},
   "source": [
    "## 6. Gradient Boost"
   ]
  },
  {
   "cell_type": "code",
   "execution_count": 65,
   "metadata": {},
   "outputs": [],
   "source": [
    "from sklearn.ensemble import GradientBoostingClassifier\n",
    "gb = GradientBoostingClassifier()\n",
    "gb.fit(X_train, y_train)\n",
    "y_pred = gb.predict(X_test)"
   ]
  },
  {
   "cell_type": "code",
   "execution_count": 66,
   "metadata": {},
   "outputs": [
    {
     "name": "stdout",
     "output_type": "stream",
     "text": [
      "              precision    recall  f1-score   support\n",
      "\n",
      "           0       0.83      0.91      0.87      1546\n",
      "           1       0.67      0.49      0.56       567\n",
      "\n",
      "    accuracy                           0.80      2113\n",
      "   macro avg       0.75      0.70      0.72      2113\n",
      "weighted avg       0.79      0.80      0.79      2113\n",
      "\n"
     ]
    }
   ],
   "source": [
    "print(classification_report(y_test, y_pred))"
   ]
  },
  {
   "cell_type": "code",
   "execution_count": 67,
   "metadata": {},
   "outputs": [
    {
     "name": "stdout",
     "output_type": "stream",
     "text": [
      "[[1411  135]\n",
      " [ 292  275]]\n"
     ]
    }
   ],
   "source": [
    "# confusion_matrix\n",
    "print(confusion_matrix(y_test, y_pred))"
   ]
  },
  {
   "cell_type": "code",
   "execution_count": 68,
   "metadata": {},
   "outputs": [
    {
     "name": "stdout",
     "output_type": "stream",
     "text": [
      "accuracy f1_score precision recall auc_score\n",
      "-------- -------- --------- ------ ---------\n",
      "     0.8     0.56      0.67   0.49      0.84\n"
     ]
    }
   ],
   "source": [
    "# performance matrix\n",
    "from sklearn.metrics import accuracy_score, f1_score, precision_score ,recall_score, roc_auc_score\n",
    "accuracy = round(accuracy_score(y_test, y_pred), 2)\n",
    "f1_score = round(f1_score(y_test, y_pred), 2)\n",
    "precision = round(precision_score(y_test, y_pred), 2)\n",
    "recall = round(recall_score(y_test, y_pred), 2)\n",
    "y_prob_scores_test = gb.predict_proba(X_test)[:,1]\n",
    "auc_score = round(roc_auc_score(y_test, y_prob_scores_test), 2)\n",
    "\n",
    "from astropy.table import Table\n",
    "dict4 = [{'accuracy': accuracy, 'f1_score': f1_score, 'precision': precision, 'recall': recall, 'auc_score': auc_score}]\n",
    "gb_matrix = Table(rows=dict4)\n",
    "print(gb_matrix)"
   ]
  },
  {
   "cell_type": "code",
   "execution_count": 69,
   "metadata": {},
   "outputs": [
    {
     "data": {
      "text/plain": [
       "<sklearn.metrics._plot.roc_curve.RocCurveDisplay at 0x147f56825e0>"
      ]
     },
     "execution_count": 69,
     "metadata": {},
     "output_type": "execute_result"
    },
    {
     "data": {
      "image/png": "[encoded data removed]",
      "text/plain": [
       "<Figure size 504x504 with 1 Axes>"
      ]
     },
     "metadata": {},
     "output_type": "display_data"
    }
   ],
   "source": [
    "# roc plot\n",
    "fig, ax = plt.subplots(figsize=(7,7))\n",
    "plot_roc_curve(gb, X_test, y_test, ax=ax)"
   ]
  },
  {
   "cell_type": "markdown",
   "metadata": {
    "papermill": {
     "duration": 0.10739,
     "end_time": "2021-03-02T22:27:49.229301",
     "exception": false,
     "start_time": "2021-03-02T22:27:49.121911",
     "status": "completed"
    },
    "tags": []
   },
   "source": [
    "# Conclusion"
   ]
  },
  {
   "cell_type": "markdown",
   "metadata": {
    "papermill": {
     "duration": 0.108476,
     "end_time": "2021-03-02T22:27:49.445858",
     "exception": false,
     "start_time": "2021-03-02T22:27:49.337382",
     "status": "completed"
    },
    "tags": []
   },
   "source": [
    "Based on the performance metrics below, the best model is Logistic Regression with f1-score of 62% and auc_score of 0.84."
   ]
  },
  {
   "cell_type": "code",
   "execution_count": 70,
   "metadata": {
    "execution": {
     "iopub.execute_input": "2021-03-02T22:27:49.669924Z",
     "iopub.status.busy": "2021-03-02T22:27:49.669241Z",
     "iopub.status.idle": "2021-03-02T22:27:49.673876Z",
     "shell.execute_reply": "2021-03-02T22:27:49.673214Z"
    },
    "papermill": {
     "duration": 0.120635,
     "end_time": "2021-03-02T22:27:49.674005",
     "exception": false,
     "start_time": "2021-03-02T22:27:49.553370",
     "status": "completed"
    },
    "tags": []
   },
   "outputs": [
    {
     "name": "stdout",
     "output_type": "stream",
     "text": [
      "\n",
      "Logistic Regression\n",
      "\n",
      "accuracy f1_score precision recall auc_score\n",
      "-------- -------- --------- ------ ---------\n",
      "    0.75     0.62      0.53   0.75      0.84\n",
      "\n",
      "K Nearest Neighbors\n",
      "\n",
      "accuracy f1_score precision recall auc_score\n",
      "-------- -------- --------- ------ ---------\n",
      "    0.73     0.47      0.49   0.45      0.64\n",
      "\n",
      "Decision Tree\n",
      "\n",
      "accuracy f1_score precision recall auc_score\n",
      "-------- -------- --------- ------ ---------\n",
      "    0.79     0.54      0.68   0.44      0.82\n",
      "\n",
      "Random Forest\n",
      "\n",
      "accuracy f1_score precision recall auc_score\n",
      "-------- -------- --------- ------ ---------\n",
      "    0.78     0.52      0.64   0.44      0.81\n",
      "\n",
      "AdaBoost\n",
      "\n",
      "accuracy f1_score precision recall auc_score\n",
      "-------- -------- --------- ------ ---------\n",
      "     0.8     0.58      0.68   0.51      0.84\n",
      "\n",
      "Gradient Boost\n",
      "\n",
      "accuracy f1_score precision recall auc_score\n",
      "-------- -------- --------- ------ ---------\n",
      "     0.8     0.56      0.67   0.49      0.84\n"
     ]
    }
   ],
   "source": [
    "print('\\nLogistic Regression\\n')\n",
    "print(logis_matrix)\n",
    "print('\\nK Nearest Neighbors\\n')\n",
    "print(knn_matrix)\n",
    "print('\\nDecision Tree\\n')\n",
    "print(tree_matrix)\n",
    "print('\\nRandom Forest\\n')\n",
    "print(forest_matrix)\n",
    "print('\\nAdaBoost\\n')\n",
    "print(adaboost_matrix)\n",
    "print('\\nGradient Boost\\n')\n",
    "print(gb_matrix)"
   ]
  },
  {
   "cell_type": "markdown",
   "metadata": {},
   "source": [
    "## Saving the trained model"
   ]
  },
  {
   "cell_type": "code",
   "execution_count": 71,
   "metadata": {},
   "outputs": [],
   "source": [
    "import pickle"
   ]
  },
  {
   "cell_type": "code",
   "execution_count": 72,
   "metadata": {},
   "outputs": [],
   "source": [
    "filename = 'ccp.pkl'\n",
    "pickle.dump(lm, open(filename, 'wb'))"
   ]
  },
  {
   "cell_type": "markdown",
   "metadata": {},
   "source": [
    "## Loading the saved model"
   ]
  },
  {
   "cell_type": "code",
   "execution_count": 73,
   "metadata": {},
   "outputs": [],
   "source": [
    "# loading the saved model\n",
    "loaded_model = pickle.load(open('ccp.pkl', 'rb'))"
   ]
  }
 ],
 "metadata": {
  "kernelspec": {
   "display_name": "Python 3 (ipykernel)",
   "language": "python",
   "name": "python3"
  },
  "language_info": {
   "codemirror_mode": {
    "name": "ipython",
    "version": 3
   },
   "file_extension": ".py",
   "mimetype": "text/x-python",
   "name": "python",
   "nbconvert_exporter": "python",
   "pygments_lexer": "ipython3",
   "version": "3.8.8"
  },
  "papermill": {
   "duration": 42.534427,
   "end_time": "2021-03-02T22:27:49.892393",
   "environment_variables": {},
   "exception": null,
   "input_path": "__notebook__.ipynb",
   "output_path": "__notebook__.ipynb",
   "parameters": {},
   "start_time": "2021-03-02T22:27:07.357966",
   "version": "2.1.0"
  }
 },
 "nbformat": 4,
 "nbformat_minor": 4
}
